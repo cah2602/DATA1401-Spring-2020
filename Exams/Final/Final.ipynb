{
  "nbformat": 4,
  "nbformat_minor": 0,
  "metadata": {
    "kernelspec": {
      "display_name": "Python 3",
      "language": "python",
      "name": "python3"
    },
    "language_info": {
      "codemirror_mode": {
        "name": "ipython",
        "version": 3
      },
      "file_extension": ".py",
      "mimetype": "text/x-python",
      "name": "python",
      "nbconvert_exporter": "python",
      "pygments_lexer": "ipython3",
      "version": "3.8.0"
    },
    "colab": {
      "name": "Final.ipynb",
      "provenance": [],
      "toc_visible": true
    }
  },
  "cells": [
    {
      "cell_type": "markdown",
      "metadata": {
        "id": "AMBQPgib37OA",
        "colab_type": "text"
      },
      "source": [
        "# Final Exam\n",
        "\n",
        "[![Open In Colab](https://colab.research.google.com/assets/colab-badge.svg)](https://colab.research.google.com/github//afarbin/DATA1401-Spring-2020/blob/master/Exams/Final/Final.ipynb)"
      ]
    },
    {
      "cell_type": "markdown",
      "metadata": {
        "id": "vqWUkoPa37OJ",
        "colab_type": "text"
      },
      "source": [
        "Recall the drawing system from lecture 18:"
      ]
    },
    {
      "cell_type": "code",
      "metadata": {
        "id": "KaIPcV0IapVE",
        "colab_type": "code",
        "colab": {
          "base_uri": "https://localhost:8080/",
          "height": 129
        },
        "outputId": "a8e41719-eca7-4278-fd43-e1dd1aec4b90"
      },
      "source": [
        "from google.colab import drive\n",
        "drive.mount('/content/drive')"
      ],
      "execution_count": 9,
      "outputs": [
        {
          "output_type": "stream",
          "text": [
            "Go to this URL in a browser: https://accounts.google.com/o/oauth2/auth?client_id=947318989803-6bn6qk8qdgf4n4g3pfee6491hc0brc4i.apps.googleusercontent.com&redirect_uri=urn%3aietf%3awg%3aoauth%3a2.0%3aoob&response_type=code&scope=email%20https%3a%2f%2fwww.googleapis.com%2fauth%2fdocs.test%20https%3a%2f%2fwww.googleapis.com%2fauth%2fdrive%20https%3a%2f%2fwww.googleapis.com%2fauth%2fdrive.photos.readonly%20https%3a%2f%2fwww.googleapis.com%2fauth%2fpeopleapi.readonly\n",
            "\n",
            "Enter your authorization code:\n",
            "··········\n",
            "Mounted at /content/drive\n"
          ],
          "name": "stdout"
        }
      ]
    },
    {
      "cell_type": "code",
      "metadata": {
        "id": "CukC5--U37OP",
        "colab_type": "code",
        "colab": {}
      },
      "source": [
        "class Canvas:\n",
        "    def __init__(self, width, height):\n",
        "        self.width = width\n",
        "        self.height = height\n",
        "        self.data = [[' '] * width for i in range(height)]\n",
        "\n",
        "    def set_pixel(self, row, col, char='*'):\n",
        "        self.data[row][col] = char\n",
        "\n",
        "    def get_pixel(self, row, col):\n",
        "        return self.data[row][col]\n",
        "    \n",
        "    def h_line(self, x, y, w, **kargs):\n",
        "        for i in range(x,x+w):\n",
        "            self.set_pixel(i,y, **kargs)\n",
        "\n",
        "    def v_line(self, x, y, h, **kargs):\n",
        "        for i in range(y,y+h):\n",
        "            self.set_pixel(x,i, **kargs)\n",
        "            \n",
        "    def line(self, x1, y1, x2, y2, **kargs):\n",
        "        slope = (y2-y1) / (x2-x1)\n",
        "        for y in range(y1,y2):\n",
        "            x= int(slope * y)\n",
        "            self.set_pixel(x,y, **kargs)\n",
        "            \n",
        "    def display(self):\n",
        "        print(\"\\n\".join([\"\".join(row) for row in self.data]))"
      ],
      "execution_count": 0,
      "outputs": []
    },
    {
      "cell_type": "code",
      "metadata": {
        "id": "fA8fwGmX37O4",
        "colab_type": "code",
        "colab": {}
      },
      "source": [
        "class Shape:\n",
        "    def __init__(self, name=\"\", **kwargs):\n",
        "        self.name=name\n",
        "        self.kwargs=kwargs\n",
        "    \n",
        "    def paint(self, canvas): pass\n",
        "\n",
        "class Rectangle(Shape):\n",
        "    def __init__(self, x, y, w, h, **kwargs):\n",
        "        Shape.__init__(self, **kwargs)\n",
        "        self.x = x\n",
        "        self.y = y\n",
        "        self.w = w\n",
        "        self.h = h\n",
        "\n",
        "    def paint(self, canvas):\n",
        "        canvas.h_line(self.x, self.y, self.w, **self.kwargs)\n",
        "        canvas.h_line(self.x, self.y + self.h, self.w, **self.kwargs)\n",
        "        canvas.v_line(self.x, self.y, self.h, **self.kwargs)\n",
        "        canvas.v_line(self.x + self.w, self.y, self.h, **self.kwargs)\n",
        "\n",
        "class Square(Rectangle):\n",
        "    def __init__(self, x, y, size, **kwargs):\n",
        "        Rectangle.__init__(self, x, y, size, size, **kwargs)\n",
        "\n",
        "class Line(Shape):\n",
        "    def __init__(self, x1, y1, x2, y2,  **kwargs):\n",
        "        Shape.__init__(self, **kwargs)\n",
        "        self.x1=x1\n",
        "        self.y1=y1\n",
        "        self.x2=x2\n",
        "        self.y2=y2\n",
        "        \n",
        "    def paint(self, canvas):\n",
        "        canvas.line(self.x1,self.y1,self.x2,self.y2)\n",
        "        \n",
        "class CompoundShape(Shape):\n",
        "    def __init__(self, shapes):\n",
        "        self.shapes = shapes\n",
        "\n",
        "    def paint(self, canvas):\n",
        "        for s in self.shapes:\n",
        "            s.paint(canvas)"
      ],
      "execution_count": 0,
      "outputs": []
    },
    {
      "cell_type": "code",
      "metadata": {
        "id": "bmJvIgyY37P5",
        "colab_type": "code",
        "colab": {}
      },
      "source": [
        "class RasterDrawing:\n",
        "    def __init__(self):\n",
        "        self.shapes=dict()\n",
        "        self.shape_names=list()\n",
        "        \n",
        "    def add_shape(self,shape):\n",
        "        if shape.name == \"\":\n",
        "            shape.name = self.assign_name()\n",
        "        \n",
        "        self.shapes[shape.name]=shape\n",
        "        self.shape_names.append(shape.name)\n",
        "        \n",
        "    def paint(self,canvas):\n",
        "        for shape_name in self.shape_names:\n",
        "            self.shapes[shape_name].paint(canvas)\n",
        "            \n",
        "    def assign_name(self):\n",
        "        name_base=\"shape\"\n",
        "        name = name_base+\"_0\"\n",
        "        \n",
        "        i=1\n",
        "        while name in self.shapes:\n",
        "            name = name_base+\"_\"+str(i)\n",
        "            \n",
        "        return name\n"
      ],
      "execution_count": 0,
      "outputs": []
    },
    {
      "cell_type": "code",
      "metadata": {
        "id": "_qEbwiO-m0TX",
        "colab_type": "code",
        "colab": {}
      },
      "source": [
        "c1=Canvas(50,40)\n",
        "s1=Square(5,5,20,char=\"^\")\n",
        "s1.paint(c1)"
      ],
      "execution_count": 0,
      "outputs": []
    },
    {
      "cell_type": "code",
      "metadata": {
        "id": "Rc1lw-Sgm_7F",
        "colab_type": "code",
        "colab": {
          "base_uri": "https://localhost:8080/",
          "height": 752
        },
        "outputId": "e862ce96-53ab-47f7-8cd3-35320a0a5017"
      },
      "source": [
        "c1.display()"
      ],
      "execution_count": 9,
      "outputs": [
        {
          "output_type": "stream",
          "text": [
            "                                                  \n",
            "                                                  \n",
            "                                                  \n",
            "                                                  \n",
            "                                                  \n",
            "     ^^^^^^^^^^^^^^^^^^^^^                        \n",
            "     ^                   ^                        \n",
            "     ^                   ^                        \n",
            "     ^                   ^                        \n",
            "     ^                   ^                        \n",
            "     ^                   ^                        \n",
            "     ^                   ^                        \n",
            "     ^                   ^                        \n",
            "     ^                   ^                        \n",
            "     ^                   ^                        \n",
            "     ^                   ^                        \n",
            "     ^                   ^                        \n",
            "     ^                   ^                        \n",
            "     ^                   ^                        \n",
            "     ^                   ^                        \n",
            "     ^                   ^                        \n",
            "     ^                   ^                        \n",
            "     ^                   ^                        \n",
            "     ^                   ^                        \n",
            "     ^                   ^                        \n",
            "     ^^^^^^^^^^^^^^^^^^^^                         \n",
            "                                                  \n",
            "                                                  \n",
            "                                                  \n",
            "                                                  \n",
            "                                                  \n",
            "                                                  \n",
            "                                                  \n",
            "                                                  \n",
            "                                                  \n",
            "                                                  \n",
            "                                                  \n",
            "                                                  \n",
            "                                                  \n",
            "                                                  \n"
          ],
          "name": "stdout"
        }
      ]
    },
    {
      "cell_type": "markdown",
      "metadata": {
        "id": "gVsBi-Gy37Qb",
        "colab_type": "text"
      },
      "source": [
        "1. Add `Point` and `Triangle` classes and test them."
      ]
    },
    {
      "cell_type": "code",
      "metadata": {
        "id": "7AZ9VFGu37Qh",
        "colab_type": "code",
        "colab": {}
      },
      "source": [
        "class Point(Shape):\n",
        "  def __init__(self,x0,y0, **kwargs):\n",
        "    Shape.__init__(self, **kwargs)\n",
        "    self.x0 = x0\n",
        "    self.y0 = y0\n",
        "\n",
        "  def paint(self, canvas):\n",
        "    set_pixel(self.x0,self.y0)\n",
        "\n",
        "\n",
        "class Triangle(Shape):\n",
        "  def __init__(self,p,o,i,u, **kwargs):\n",
        "        Shape.__init__(self, **kwargs)\n",
        "        self.p = p #x-coordinate\n",
        "        self.o = o #y-coordinate\n",
        "        self.i = i #base length\n",
        "        self.u = u #height\n",
        "\n",
        "  def paint(self, canvas):\n",
        "    canvas.v_line(self.p,self.o,self.i,**self.kwargs)\n",
        "    canvas.line(self.p,self.o,self.p+(self.i)/2,self.o+self.u)\n",
        "    canvas.line(self.p+(self.i)/2,self.o+self.u,self.p+self.i,self.o)\n"
      ],
      "execution_count": 0,
      "outputs": []
    },
    {
      "cell_type": "code",
      "metadata": {
        "id": "XBTMCqkJnS5u",
        "colab_type": "code",
        "colab": {}
      },
      "source": [
        "c1=Canvas(50,40)\n",
        "s1=Triangle(5,5,7,8,char=\"^\")\n",
        "s1.paint(c1)"
      ],
      "execution_count": 0,
      "outputs": []
    },
    {
      "cell_type": "code",
      "metadata": {
        "id": "XXj2eYIbn3Bi",
        "colab_type": "code",
        "colab": {
          "base_uri": "https://localhost:8080/",
          "height": 752
        },
        "outputId": "eedcd8cf-bafd-4bba-eac8-5b3cc2c4be57"
      },
      "source": [
        "c1.display()"
      ],
      "execution_count": 29,
      "outputs": [
        {
          "output_type": "stream",
          "text": [
            "                                                  \n",
            "                                                  \n",
            "                                                  \n",
            "                                                  \n",
            "                                                  \n",
            "     ^^^^^^^                                      \n",
            "                                                  \n",
            "                                                  \n",
            "                                                  \n",
            "                                                  \n",
            "                                                  \n",
            "     *                                            \n",
            "                                                  \n",
            "      *                                           \n",
            "                                                  \n",
            "                                                  \n",
            "       *                                          \n",
            "                                                  \n",
            "        *                                         \n",
            "                                                  \n",
            "         *                                        \n",
            "                                                  \n",
            "          *                                       \n",
            "                                                  \n",
            "                                                  \n",
            "           *                                      \n",
            "                                                  \n",
            "            *                                     \n",
            "                                                  \n",
            "                                                  \n",
            "                                                  \n",
            "                                                  \n",
            "                                                  \n",
            "                                                  \n",
            "                                                  \n",
            "                                                  \n",
            "                                                  \n",
            "                                                  \n",
            "                                                  \n",
            "                                                  \n"
          ],
          "name": "stdout"
        }
      ]
    },
    {
      "cell_type": "markdown",
      "metadata": {
        "id": "xkfh_Inm37Q4",
        "colab_type": "text"
      },
      "source": [
        "2. Add an `Arc` class that is instantiated with a center location, two axis lengths, and starting and ending angles. If start and end are not specified or are the same angle, the `Arc` instance should draw an oval. If in addition the two axes are the same, the `Arc` instance should draw a circle. Create `Oval` and `Circle` classes that inherit from `Arc`. Test everything."
      ]
    },
    {
      "cell_type": "code",
      "metadata": {
        "id": "L0Gcyjpxf6hG",
        "colab_type": "code",
        "colab": {}
      },
      "source": [
        "import math"
      ],
      "execution_count": 0,
      "outputs": []
    },
    {
      "cell_type": "code",
      "metadata": {
        "id": "tjOYouMl37Q_",
        "colab_type": "code",
        "colab": {}
      },
      "source": [
        "class Arc(Shape):\n",
        "  def __init__(self, center_x, center_y , xlen, ylen, start_ang, end_ang, **kwargs)\n",
        "    Shape.__init__(self, **kwargs)\n",
        "    self.center_y = center_x\n",
        "    self.center_y = center_y\n",
        "    self.xlen = xlen\n",
        "    self.ylen = ylen\n",
        "    self.start_ang = start_ang\n",
        "    self.end_ang = end ang\n",
        "\n",
        "  def paint(self, canvas):\n",
        "    if self.start_ang==self.end_ang:\n",
        "      xcoord = self.center_x + self.xlen\n",
        "      ycoord = self.center_y + self.ylen\n",
        "      for i in range(self.start_ang,self.end_ang):\n",
        "        newxcoord = (self.xlen)*math.cos(i)\n",
        "        newycoord = (self.xlen)*math.sin(i)\n",
        "        canvas.line(xcoord,ycoord,newxcoord,newycoord)\n",
        "        xcoord = newxcoord\n",
        "        ycoord = newycoord\n",
        "\n",
        "class Oval(Arc):\n",
        "\n",
        "class Circle(Arc):\n",
        "  def __init__(self, center_x, center,_y radius, angle, **kwargs)\n",
        "    Arc.__init__(self, center_x, center_y, radius, radius, angle, angle, **kwargs)\n",
        "    \n",
        "\n",
        "\n"
      ],
      "execution_count": 0,
      "outputs": []
    },
    {
      "cell_type": "markdown",
      "metadata": {
        "id": "FldU1J3H37Ra",
        "colab_type": "text"
      },
      "source": [
        "3. Use your classes to create a `RasterDrawing` that draws a happy face."
      ]
    },
    {
      "cell_type": "code",
      "metadata": {
        "id": "u8oYgENe37Rf",
        "colab_type": "code",
        "colab": {}
      },
      "source": [
        ""
      ],
      "execution_count": 0,
      "outputs": []
    },
    {
      "cell_type": "markdown",
      "metadata": {
        "id": "U6jUBmCG37R5",
        "colab_type": "text"
      },
      "source": [
        "4. Add to the `Shape` base class a `__str__()` method. Overwrite the method in each shape to generate a string of the python code necessary to reinstantiate the object. For example, for a rectangle originally instantiated using `Square(5,5,20,char=\"^\")`, `__str__()` should return the string `'Square(5,5,20,char=\"^\")'`.\n"
      ]
    },
    {
      "cell_type": "code",
      "metadata": {
        "id": "8sYnOGwC37R9",
        "colab_type": "code",
        "colab": {}
      },
      "source": [
        "class Shape:\n",
        "    def __init__(self, name=\"\", **kwargs):\n",
        "        self.name=name\n",
        "        self.kwargs=kwargs\n",
        "    \n",
        "    def paint(self, canvas): pass\n",
        "\n",
        "    def __str__(self, shape):\n",
        "      return \"%s\" %shape"
      ],
      "execution_count": 0,
      "outputs": []
    },
    {
      "cell_type": "markdown",
      "metadata": {
        "id": "1gZwXP6r37SS",
        "colab_type": "text"
      },
      "source": [
        "5. Add to `RasterDrawing` two functions, `save(filename)` and `load(filename)`. The save function writes the `__str__()` of all of the shapes in the drawing to a file (one shape per line). The load function, reads the file, and instantiates each object using the python `eval(expression)` function, and adds each shape to the drawing, thereby recreating a \"saved\" raster drawing. Use this functionality to save and load your happy face.\n",
        "\n",
        "   `eval` takes a string that contains a fragment of a python code and executes it. Consider the following examples: "
      ]
    },
    {
      "cell_type": "code",
      "metadata": {
        "id": "Dof9cT8437SX",
        "colab_type": "code",
        "colab": {}
      },
      "source": [
        "eval(\"print('Hello')\")"
      ],
      "execution_count": 0,
      "outputs": []
    },
    {
      "cell_type": "code",
      "metadata": {
        "id": "r0ZyoJQc37St",
        "colab_type": "code",
        "colab": {}
      },
      "source": [
        "x = eval('1+2')\n",
        "print(x)"
      ],
      "execution_count": 0,
      "outputs": []
    },
    {
      "cell_type": "code",
      "metadata": {
        "id": "f9fBeaDf37TC",
        "colab_type": "code",
        "colab": {}
      },
      "source": [
        "class RasterDrawing:\n",
        "    def __init__(self):\n",
        "        self.shapes=dict()\n",
        "        self.shape_names=list()\n",
        "        \n",
        "    def add_shape(self,shape):\n",
        "        if shape.name == \"\":\n",
        "            shape.name = self.assign_name()\n",
        "        \n",
        "        self.shapes[shape.name]=shape\n",
        "        self.shape_names.append(shape.name)\n",
        "        \n",
        "    def paint(self,canvas):\n",
        "        for shape_name in self.shape_names:\n",
        "            self.shapes[shape_name].paint(canvas)\n",
        "            \n",
        "    def assign_name(self):\n",
        "        name_base=\"shape\"\n",
        "        name = name_base+\"_0\"\n",
        "        \n",
        "        i=1\n",
        "        while name in self.shapes:\n",
        "            name = name_base+\"_\"+str(i)\n",
        "            \n",
        "        return name\n",
        "\n",
        "    def save(filename):\n",
        "\n",
        "    def load(fiename):"
      ],
      "execution_count": 0,
      "outputs": []
    }
  ]
}
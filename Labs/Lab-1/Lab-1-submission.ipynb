{
  "nbformat": 4,
  "nbformat_minor": 0,
  "metadata": {
    "colab": {
      "name": "Copy of Lab-1.ipynb",
      "provenance": [],
      "collapsed_sections": [],
      "toc_visible": true
    },
    "kernelspec": {
      "display_name": "Python 3",
      "language": "python",
      "name": "python3"
    },
    "language_info": {
      "codemirror_mode": {
        "name": "ipython",
        "version": 3
      },
      "file_extension": ".py",
      "mimetype": "text/x-python",
      "name": "python",
      "nbconvert_exporter": "python",
      "pygments_lexer": "ipython3",
      "version": "3.8.1"
    }
  },
  "cells": [
    {
      "cell_type": "markdown",
      "metadata": {
        "colab_type": "text",
        "id": "O5vg8KKRq0sy"
      },
      "source": [
        "# Lab 1\n",
        "\n",
        "## Python Notebooks on Google Colab\n",
        "\n",
        "Data 1401's Labs, Homework, and Exams will be all in form of iPython notebooks. You may already be familiar with python notebooks if you have used Jupyter before, for example in Data 1301. If so, you are welcome to use whatever means you have to run Jupyter notebooks for this course, though you may get limited support. Our primary means of running python notebooks will be through [Google Colab](https://colab.research.google.com) and we will be storing files on google drive.\n",
        "\n",
        "You will need a google account. If you do not have one or you wish to use a different account for this course, please follow [these instructions](https://edu.gcfglobal.org/en/googledriveanddocs/getting-started-with-google-drive/1/) to make an account.\n",
        "\n",
        "Once you are ready with your account, you can continue in Colab. Click on the following badge to open this notebook in Colab:\n",
        "\n",
        "[![Open In Colab](https://colab.research.google.com/assets/colab-badge.svg)](https://colab.research.google.com/github//afarbin/DATA1401-Spring-2020/blob/master/Labs/Lab-1/Lab-1.ipynb)\n"
      ]
    },
    {
      "cell_type": "markdown",
      "metadata": {
        "colab_type": "text",
        "id": "FVt_1hPt1dAK"
      },
      "source": [
        "## Notebooks in Colab\n",
        "\n",
        "You now are presumably in Colab. Word of caution, by default, Google Colab does not save your notebooks, so if you close your session, you will loose your work.\n",
        "\n",
        "So first thing: from the file menu above select \"Save a copy in Drive\"."
      ]
    },
    {
      "cell_type": "code",
      "metadata": {
        "id": "lcepvvTpRn4s",
        "colab_type": "code",
        "outputId": "7ca72088-de9e-4e71-d432-21d9a13b9edc",
        "colab": {
          "base_uri": "https://localhost:8080/",
          "height": 129
        }
      },
      "source": [
        "from google.colab import drive\n",
        "drive.mount('/content/drive')"
      ],
      "execution_count": 0,
      "outputs": [
        {
          "output_type": "stream",
          "text": [
            "Go to this URL in a browser: https://accounts.google.com/o/oauth2/auth?client_id=947318989803-6bn6qk8qdgf4n4g3pfee6491hc0brc4i.apps.googleusercontent.com&redirect_uri=urn%3aietf%3awg%3aoauth%3a2.0%3aoob&response_type=code&scope=email%20https%3a%2f%2fwww.googleapis.com%2fauth%2fdocs.test%20https%3a%2f%2fwww.googleapis.com%2fauth%2fdrive%20https%3a%2f%2fwww.googleapis.com%2fauth%2fdrive.photos.readonly%20https%3a%2f%2fwww.googleapis.com%2fauth%2fpeopleapi.readonly\n",
            "\n",
            "Enter your authorization code:\n",
            "··········\n",
            "Mounted at /content/drive\n"
          ],
          "name": "stdout"
        }
      ]
    },
    {
      "cell_type": "markdown",
      "metadata": {
        "colab_type": "text",
        "id": "x0JBL_RFrDDj"
      },
      "source": [
        "## Storing Notebooks in Google Drive\n",
        "A better way to work is to save your notebooks directly into Google Drive and upload directly to Git (where you will be downloading and uploading your homework). In order properly setup Git, we'll need to work more directly in your Google Drive.\n",
        "\n",
        "On the left sidebar, press the file icon to see a listing of files accessibile to this Notebook. Then press \"Mount Drive\" and follow the instructions to mount your Google Drive in this notebook. A new cell will be inserted into this notebook, which after you run by pressing the play button will instruct you to follow a link to log into your Google Account and enable access to your Drive in another tab. Finally you will copy a link from the new tab back into the cell in this notebook. Once you are done, press refresh under files in the left sidebar and you should have \"drive/My Drive\" appear."
      ]
    },
    {
      "cell_type": "markdown",
      "metadata": {
        "colab_type": "text",
        "id": "hwJ6wJk3tiLv"
      },
      "source": [
        "## Github\n",
        "All the class material will be stored on github. You will also submit your homework using github. To do so, you will need a github account.\n",
        "\n",
        "If you do not already have a github account or wish to create a new one for this course, create one:\n",
        "* Browse to [github.com](https://github.com).\n",
        "* Click the green “Sign up for GitHub”\tbutton.\n",
        "* Follow instructions for creating an account.\n",
        "* Make sure you remember your github username and password.\n",
        "\n",
        "Write an email to the course TA titled \"Data 1401: Github account\" with your github username (not your password) as the contents.\n",
        "\n",
        "## Google Groups\n",
        "\n",
        "Class annoucements will be made via google groups. If you did not already receive an invite to the class google group, had trouble with the invite, or wish to use a different email address, write an email to the course TA titled \"Data 1401: Google Group\" with your preferred email.\n"
      ]
    },
    {
      "cell_type": "markdown",
      "metadata": {
        "colab_type": "text",
        "id": "TjfIzdQZqvzk"
      },
      "source": [
        "## Introduction: Unix, Git, and Jupyter\n",
        "\n",
        "This lab aims to introduce you to basic Unix, familiarize you with iPython notebooks and get you setup to submit your homework.\n",
        "*italicized text*"
      ]
    },
    {
      "cell_type": "markdown",
      "metadata": {
        "colab_type": "text",
        "id": "C_LmOgzFqvzp"
      },
      "source": [
        "\n",
        "\n",
        "### Terminal, Shell, and ssh\n",
        "\n",
        "\n",
        "The terminal is a simple program that generally runs another program, taking mostly keyboard input from you, passing it to this other program, and taking the output of the program and displaying on the screen for you.\n",
        "\n",
        "The terminal usually runs a program called a shell. Shells present a command prompt where you can type in commands, which are then executed when you press enter. In most shells, there are some special commands which the shell will execute. Everything else you type in, the shell will assume is a name of a program you want to run and arguments you want to pass that program. So if the shell doesn't recognize something you type in, it'll try to find a program with a name that is the same as the first word you gave it. \n",
        "\n",
        "### Shell in Colab\n",
        "\n",
        "Unfortunately, google Colab does not allow you to open a terminal window. Jupyter does, so if you are running in Jupyter (which most of you will not be), you may choose to open a terminal window by returning to the jupyter file list tab and selecting new terminal from the top right.\n",
        "\n",
        "For Colab, we will have to do something non-ideal, but functional. There are several ways to execute shell commands from within a python notebook. For example, you can use any shell command by putting \"!\" in front of the command:\n",
        "\n",
        "\n",
        "\n"
      ]
    },
    {
      "cell_type": "code",
      "metadata": {
        "colab_type": "code",
        "id": "KJ5f-WO0wcAv",
        "colab": {}
      },
      "source": [
        "!ls\n",
        "!echo \"----------\"\n",
        "!ls sample_data"
      ],
      "execution_count": 0,
      "outputs": []
    },
    {
      "cell_type": "markdown",
      "metadata": {
        "colab_type": "text",
        "id": "8f-n4AXFw-dD"
      },
      "source": [
        "Unfortunately, every time you use \"!\" a new environment is created and the state reverted to the original state. Try to understand the difference between the following two sets of commands:\n"
      ]
    },
    {
      "cell_type": "code",
      "metadata": {
        "colab_type": "code",
        "id": "99nrBYTWxZJr",
        "colab": {}
      },
      "source": [
        "!echo \"Technique 1:\"\n",
        "!ls\n",
        "!cd sample_data\n",
        "!ls"
      ],
      "execution_count": 0,
      "outputs": []
    },
    {
      "cell_type": "code",
      "metadata": {
        "colab_type": "code",
        "id": "2-Znf97Lxl-Z",
        "colab": {}
      },
      "source": [
        "!echo \"Technique 2:\"\n",
        "!ls ; cd sample_data ;ls"
      ],
      "execution_count": 0,
      "outputs": []
    },
    {
      "cell_type": "markdown",
      "metadata": {
        "colab_type": "text",
        "id": "4x9n1rAkxyYl"
      },
      "source": [
        "Notebooks allow a bit of \"magic\" (using \"%\") to avoid some of these limitations:\n"
      ]
    },
    {
      "cell_type": "code",
      "metadata": {
        "colab_type": "code",
        "id": "vLBPTX4rx3gd",
        "colab": {}
      },
      "source": [
        "!echo \"Technique 3:\"\n",
        "!ls \n",
        "%cd sample_data \n",
        "!ls"
      ],
      "execution_count": 0,
      "outputs": []
    },
    {
      "cell_type": "markdown",
      "metadata": {
        "colab_type": "text",
        "id": "U8XpvPjcyH0w"
      },
      "source": [
        "For our purposes, we are just going to explicitly start a new shell and interact with it in the output cell. Execute the following cell. You will be able to type and execute commands. Look around a bit using \"ls\" and \"cd. You can stop the cell from running by typing \"exit\"."
      ]
    },
    {
      "cell_type": "code",
      "metadata": {
        "colab_type": "code",
        "id": "MIDFitLZyuZy",
        "outputId": "e33f0b0e-2c6b-4c10-8401-7e3419459686",
        "colab": {
          "base_uri": "https://localhost:8080/",
          "height": 274
        }
      },
      "source": [
        "!/bin/bash --noediting"
      ],
      "execution_count": 0,
      "outputs": [
        {
          "output_type": "stream",
          "text": [
            "bash: cannot set terminal process group (125): Inappropriate ioctl for device\n",
            "bash: no job control in this shell\n",
            "\u001b]0;root@83b085debe7e: /content\u0007\u001b[01;32mroot@83b085debe7e\u001b[00m:\u001b[01;34m/content\u001b[00m# ls\n",
            "\u001b[0m\u001b[01;34mdrive\u001b[0m  \u001b[01;34msample_data\u001b[0m\n",
            "\u001b]0;root@83b085debe7e: /content\u0007\u001b[01;32mroot@83b085debe7e\u001b[00m:\u001b[01;34m/content\u001b[00m# cd drive\n",
            "\u001b]0;root@83b085debe7e: /content/drive\u0007\u001b[01;32mroot@83b085debe7e\u001b[00m:\u001b[01;34m/content/drive\u001b[00m# ls\n",
            "\u001b[0m\u001b[01;34m'My Drive'\u001b[0m\n",
            "\u001b]0;root@83b085debe7e: /content/drive\u0007\u001b[01;32mroot@83b085debe7e\u001b[00m:\u001b[01;34m/content/drive\u001b[00m# cd 'My Drive'\n",
            "\u001b]0;root@83b085debe7e: /content/drive/My Drive\u0007\u001b[01;32mroot@83b085debe7e\u001b[00m:\u001b[01;34m/content/drive/My Drive\u001b[00m# ls\n",
            "\u001b[0m\u001b[01;34m'Colab Notebooks'\u001b[0m\n",
            "\u001b]0;root@83b085debe7e: /content/drive/My Drive\u0007\u001b[01;32mroot@83b085debe7e\u001b[00m:\u001b[01;34m/content/drive/My Drive\u001b[00m# \n",
            "\u001b]0;root@83b085debe7e: /content/drive/My Drive\u0007\u001b[01;32mroot@83b085debe7e\u001b[00m:\u001b[01;34m/content/drive/My Drive\u001b[00m# \n",
            "\u001b]0;root@83b085debe7e: /content/drive/My Drive\u0007\u001b[01;32mroot@83b085debe7e\u001b[00m:\u001b[01;34m/content/drive/My Drive\u001b[00m# \n",
            "\u001b]0;root@83b085debe7e: /content/drive/My Drive\u0007\u001b[01;32mroot@83b085debe7e\u001b[00m:\u001b[01;34m/content/drive/My Drive\u001b[00m# ^C\n"
          ],
          "name": "stdout"
        }
      ]
    },
    {
      "cell_type": "markdown",
      "metadata": {
        "colab_type": "text",
        "id": "q-4hfZBywW25"
      },
      "source": [
        "While in this instance your shell is running in a this notebook, you can also run terminals natively on your own computer. On Linux or MacOS, you just have to run a program called terminal. In Windows you can start a \"command prompt\". \n",
        "\n",
        "\n",
        "Type in \"ls\" into the terminal and press enter. The shell will find a program called \"ls\", a standard tool in Unix, and run it. \"ls\" lists the contents (files and directories) of your current directory. If you are just starting in this course, you probably only see the git repository you cloned. \n",
        "\n",
        "A subtle point to realize here is that while the terminal is running in the browser that is running on the computer in front of you, the shell is actually running on a machine on google hardware. The shell prompt typically displays the name of the machine you are using. What you are not seeing is that there is an intermidate program between the terminal running on your computer and the shell running on google. This intermidary program is taking your input from the terminal sending it over the network to google and bringing back the responses for you terminal to display.\n",
        "\n",
        "A bit of extra information. If you start a terminal on your own computer, the shell runs locally. The \"ls\" command would then list contents of a directory on your computer. You can typically connect to Unix computers by evoking a shell running on that machine over the network. In this case, you would have to initiate this intermidiary program yourself. The program is called \"ssh\" (secure shell). You can \"ssh\" to another machine from your machine, by simply typing \"ssh\" followed by the machine name or IP address. Most likely you would be prompted for a password, after which you would dropped into the prompt of a shell running on the remote machine. \n"
      ]
    },
    {
      "cell_type": "markdown",
      "metadata": {
        "colab_type": "text",
        "id": "51Eya4LBqvzs"
      },
      "source": [
        "## Programs and Environment Variables\n",
        "\n",
        "You have a listing of your current directory, but you don't know where that directory resides. You can see what directory you are using the command \"pwd\" (print working directory). Issue the command and look at the response. You'll get a slash (\"/\") separated list, known as the path, of the directory hierarchy of your current working directory. On Colab, this will start with \"contents\"\n",
        "\n",
        "Now back to thinking about the command prompt. Since \"ls\" is a program, it most be stored somewhere. It is clearly not in your working directory, because you didn't see it when you executed \"ls\". We can ask the shell to tell us where it found \"ls\" using the \"which ls\" command. Note that \"which\" is also a program. \"which ls\" comes back with \"/bin/ls\", telling you the \"ls\" program is sitting in \"/bin\" directory of the system. \n",
        "\n",
        "Lets see what else is in there by issuing a \"ls /bin\" command. You will get a long list of programs. You can run any of these programs by just typing their names and pressing enter. You may be able to guess what some of these programs do, but if you want to know, most of them provide you help, using \"--help\" or \"-h\" flag. For example execute \"ls --help\". For more information about a program or command, you can use Unix's manual pages using the \"man\" command. Try typing \"man ls\". Note that you will need to press space to scroll through lengthy manual pages and \"q\" to exit back to the shell prompt. \n",
        "\n",
        "Another command interesting is \"echo\". \"echo\" simply prints whatever you put after it to the screen. Try executing \"echo Hello World.\"\n",
        "\n",
        "At this point, you may wonder how was it that the shell knew to look for programs in \"/bin\"? The shell keeps a list of places to look for programs an environment variable with the name \"PATH\". The shell keeps a table that map string variable names to string expressions. When the shell starts, its configuration files set some environment variables that it uses. You can see the full list of defined environment variables using the command \"printenv\".\n",
        "\n",
        "You can use a environment variable in a shell by prepending name of the variable with a dollar sign character (\"\\$\"). So you can print out the PATH environment variable using the command \"echo $PATH\". What you will see is a colon (\":\") separated list of directories that the shell will search (in order) whenever you type in anything.\n",
        "\n",
        "You can set you own environment variables. Different shells have different syntax. Lets first figure out what shell we are running. \n",
        "\n",
        "*Exercise 1:* Use the \"echo\" command to print out the value of the \"SHELL\" environment variable:"
      ]
    },
    {
      "cell_type": "markdown",
      "metadata": {
        "colab_type": "text",
        "id": "YS7YFiPwqvzu"
      },
      "source": [
        "!/bin/bash --noediting"
      ]
    },
    {
      "cell_type": "code",
      "metadata": {
        "id": "idAE9HqVSZWp",
        "colab_type": "code",
        "outputId": "d2bc1f10-1d48-4088-e747-fa5ce22f564b",
        "colab": {
          "base_uri": "https://localhost:8080/",
          "height": 35
        }
      },
      "source": [
        "!echo $SHELL"
      ],
      "execution_count": 0,
      "outputs": [
        {
          "output_type": "stream",
          "text": [
            "/bin/bash\n"
          ],
          "name": "stdout"
        }
      ]
    },
    {
      "cell_type": "markdown",
      "metadata": {
        "colab_type": "text",
        "id": "YoEgruUhqvzw"
      },
      "source": [
        "## Navigating Directories\n",
        "\n",
        "You can change your current directory using the \"cd\" shell command. Note that \"cd\" is not a Unix program. Once in a directory, you can use the \"ls\" command to list the contents or \"pwd\" to remind yourself your current working directory. You can move back one level in your current directory hierarchy using \"cd ..\". In general \"..\" represents the path to a directory one level above your current directory, \"../..\" represents two levels up, and so on. \".\" represents the current directory. If you look at the PATH environment variable, you'll notice that the last item is \".\", telling the shell to look into your current directory for commands. Finally the \"~\" character always refers to your home directory.\n",
        "\n",
        "Some other file manipulation commands:\n",
        "\n",
        "   - The \"mkdir\" command creates new directories. \n",
        "   - \"cp\" and \"mv\" allow you to copy and move (or rename) files, taking 2 arguments: the original path/filename and the target path/filename.  \n",
        "   - The \"rm\" and \"rmdir\" commands remove (delete) files and directories.\n",
        "\n",
        "\n",
        "*Exercise 2:* Using the \"cd\" command, navigate into \"drive/My\\ Drive\" directory. Create a new directory called \"Data-1441\", and another directory inside \"Data-1441\" called \"Lab-1-Solutions\". Perform the rest of the lab in this directory."
      ]
    },
    {
      "cell_type": "code",
      "metadata": {
        "colab_type": "code",
        "id": "A16VzZ3G0J8x",
        "outputId": "059fb553-aa9f-4d7c-d9bd-0960fce44205",
        "colab": {
          "base_uri": "https://localhost:8080/",
          "height": 384
        }
      },
      "source": [
        "!/bin/bash --noediting"
      ],
      "execution_count": 0,
      "outputs": [
        {
          "output_type": "stream",
          "text": [
            "bash: cannot set terminal process group (125): Inappropriate ioctl for device\n",
            "bash: no job control in this shell\n",
            "\u001b]0;root@83b085debe7e: /content\u0007\u001b[01;32mroot@83b085debe7e\u001b[00m:\u001b[01;34m/content\u001b[00m# cd My Drive\n",
            "bash: cd: too many arguments\n",
            "\u001b]0;root@83b085debe7e: /content\u0007\u001b[01;32mroot@83b085debe7e\u001b[00m:\u001b[01;34m/content\u001b[00m# cd 'My Drive'\n",
            "bash: cd: My Drive: No such file or directory\n",
            "\u001b]0;root@83b085debe7e: /content\u0007\u001b[01;32mroot@83b085debe7e\u001b[00m:\u001b[01;34m/content\u001b[00m# ls\n",
            "\u001b[0m\u001b[01;34mdrive\u001b[0m  \u001b[01;34msample_data\u001b[0m\n",
            "\u001b]0;root@83b085debe7e: /content\u0007\u001b[01;32mroot@83b085debe7e\u001b[00m:\u001b[01;34m/content\u001b[00m# cd drive/'My Drive'\n",
            "\u001b]0;root@83b085debe7e: /content/drive/My Drive\u0007\u001b[01;32mroot@83b085debe7e\u001b[00m:\u001b[01;34m/content/drive/My Drive\u001b[00m# mkdir 'Data-1441'\n",
            "\u001b]0;root@83b085debe7e: /content/drive/My Drive\u0007\u001b[01;32mroot@83b085debe7e\u001b[00m:\u001b[01;34m/content/drive/My Drive\u001b[00m# cd Data-1441\n",
            "\u001b]0;root@83b085debe7e: /content/drive/My Drive/Data-1441\u0007\u001b[01;32mroot@83b085debe7e\u001b[00m:\u001b[01;34m/content/drive/My Drive/Data-1441\u001b[00m# mkdir 'Lab-1-Solutions\n",
            "> '\n",
            "mkdir: cannot create directory ‘Lab-1-Solutions\\n’: Invalid argument\n",
            "\u001b]0;root@83b085debe7e: /content/drive/My Drive/Data-1441\u0007\u001b[01;32mroot@83b085debe7e\u001b[00m:\u001b[01;34m/content/drive/My Drive/Data-1441\u001b[00m# mkdir 'Lab-1-Solutions'\n",
            "\u001b]0;root@83b085debe7e: /content/drive/My Drive/Data-1441\u0007\u001b[01;32mroot@83b085debe7e\u001b[00m:\u001b[01;34m/content/drive/My Drive/Data-1441\u001b[00m# cd Lab-1-Solutions\n",
            "\u001b]0;root@83b085debe7e: /content/drive/My Drive/Data-1441/Lab-1-Solutions\u0007\u001b[01;32mroot@83b085debe7e\u001b[00m:\u001b[01;34m/content/drive/My Drive/Data-1441/Lab-1-Solutions\u001b[00m# \n",
            "\u001b]0;root@83b085debe7e: /content/drive/My Drive/Data-1441/Lab-1-Solutions\u0007\u001b[01;32mroot@83b085debe7e\u001b[00m:\u001b[01;34m/content/drive/My Drive/Data-1441/Lab-1-Solutions\u001b[00m# \n",
            "\u001b]0;root@83b085debe7e: /content/drive/My Drive/Data-1441/Lab-1-Solutions\u0007\u001b[01;32mroot@83b085debe7e\u001b[00m:\u001b[01;34m/content/drive/My Drive/Data-1441/Lab-1-Solutions\u001b[00m# \n",
            "\u001b]0;root@83b085debe7e: /content/drive/My Drive/Data-1441/Lab-1-Solutions\u0007\u001b[01;32mroot@83b085debe7e\u001b[00m:\u001b[01;34m/content/drive/My Drive/Data-1441/Lab-1-Solutions\u001b[00m# ^C\n"
          ],
          "name": "stdout"
        }
      ]
    },
    {
      "cell_type": "markdown",
      "metadata": {
        "colab_type": "text",
        "id": "o38c4lbsqvzy"
      },
      "source": [
        "## Exploring Unix Filesystem\n",
        "\n",
        "You can look at the root directory of the system by issuing \"ls /\". As explained in lecture, Unix uses the file system to communicate with devices and between processes. \"/etc\" keeps the configuration files of the system. \"/bin\" and \"/sbin\" store most of the standard Unix programs. \"/usr\" stores installes programs and their associate files, with \"/usr/bin\" usually storing the commands you can run. \n",
        "\n",
        "*Exercise 3:* List the \"/dev\" directory. How many SSD storage devices do you see? How many partitions does each device have? (Answer in box below)"
      ]
    },
    {
      "cell_type": "code",
      "metadata": {
        "colab_type": "code",
        "id": "yNj2LXzP2ksl",
        "outputId": "2520d1e1-cff4-4ce6-b046-568bbeaf7553",
        "colab": {
          "base_uri": "https://localhost:8080/",
          "height": 421
        }
      },
      "source": [
        "!/bin/bash --noediting"
      ],
      "execution_count": 0,
      "outputs": [
        {
          "output_type": "stream",
          "text": [
            "bash: cannot set terminal process group (125): Inappropriate ioctl for device\n",
            "bash: no job control in this shell\n",
            "\u001b]0;root@83b085debe7e: /content\u0007\u001b[01;32mroot@83b085debe7e\u001b[00m:\u001b[01;34m/content\u001b[00m# ls /dev\n",
            "\u001b[0m\u001b[01;36mcore\u001b[0m  \u001b[40;33;01mfull\u001b[0m  \u001b[30;42mmqueue\u001b[0m  \u001b[01;36mptmx\u001b[0m  \u001b[40;33;01mrandom\u001b[0m  \u001b[01;36mstderr\u001b[0m  \u001b[01;36mstdout\u001b[0m  \u001b[40;33;01murandom\u001b[0m\n",
            "\u001b[01;36mfd\u001b[0m    \u001b[40;33;01mfuse\u001b[0m  \u001b[40;33;01mnull\u001b[0m    \u001b[01;34mpts\u001b[0m   \u001b[30;42mshm\u001b[0m     \u001b[01;36mstdin\u001b[0m   \u001b[40;33;01mtty\u001b[0m     \u001b[40;33;01mzero\u001b[0m\n",
            "\u001b]0;root@83b085debe7e: /content\u0007\u001b[01;32mroot@83b085debe7e\u001b[00m:\u001b[01;34m/content\u001b[00m# echo 16\n",
            "16\n",
            "\u001b]0;root@83b085debe7e: /content\u0007\u001b[01;32mroot@83b085debe7e\u001b[00m:\u001b[01;34m/content\u001b[00m# cd /dev\n",
            "\u001b]0;root@83b085debe7e: /dev\u0007\u001b[01;32mroot@83b085debe7e\u001b[00m:\u001b[01;34m/dev\u001b[00m# ls\n",
            "\u001b[0m\u001b[01;36mcore\u001b[0m  \u001b[40;33;01mfull\u001b[0m  \u001b[30;42mmqueue\u001b[0m  \u001b[01;36mptmx\u001b[0m  \u001b[40;33;01mrandom\u001b[0m  \u001b[01;36mstderr\u001b[0m  \u001b[01;36mstdout\u001b[0m  \u001b[40;33;01murandom\u001b[0m\n",
            "\u001b[01;36mfd\u001b[0m    \u001b[40;33;01mfuse\u001b[0m  \u001b[40;33;01mnull\u001b[0m    \u001b[01;34mpts\u001b[0m   \u001b[30;42mshm\u001b[0m     \u001b[01;36mstdin\u001b[0m   \u001b[40;33;01mtty\u001b[0m     \u001b[40;33;01mzero\u001b[0m\n",
            "\u001b]0;root@83b085debe7e: /dev\u0007\u001b[01;32mroot@83b085debe7e\u001b[00m:\u001b[01;34m/dev\u001b[00m# cd core\n",
            "bash: cd: core: Not a directory\n",
            "\u001b]0;root@83b085debe7e: /dev\u0007\u001b[01;32mroot@83b085debe7e\u001b[00m:\u001b[01;34m/dev\u001b[00m# cd /core\n",
            "bash: cd: /core: No such file or directory\n",
            "\u001b]0;root@83b085debe7e: /dev\u0007\u001b[01;32mroot@83b085debe7e\u001b[00m:\u001b[01;34m/dev\u001b[00m# cd /full\n",
            "bash: cd: /full: No such file or directory\n",
            "\u001b]0;root@83b085debe7e: /dev\u0007\u001b[01;32mroot@83b085debe7e\u001b[00m:\u001b[01;34m/dev\u001b[00m# cd /content\n",
            "\u001b]0;root@83b085debe7e: /content\u0007\u001b[01;32mroot@83b085debe7e\u001b[00m:\u001b[01;34m/content\u001b[00m# \n",
            "\u001b]0;root@83b085debe7e: /content\u0007\u001b[01;32mroot@83b085debe7e\u001b[00m:\u001b[01;34m/content\u001b[00m# \n",
            "\u001b]0;root@83b085debe7e: /content\u0007\u001b[01;32mroot@83b085debe7e\u001b[00m:\u001b[01;34m/content\u001b[00m# \n",
            "\u001b]0;root@83b085debe7e: /content\u0007\u001b[01;32mroot@83b085debe7e\u001b[00m:\u001b[01;34m/content\u001b[00m# ^C\n"
          ],
          "name": "stdout"
        }
      ]
    },
    {
      "cell_type": "markdown",
      "metadata": {
        "colab_type": "text",
        "id": "7P9EG0KOqvz2"
      },
      "source": [
        "## Text File Manipulation\n",
        "\n",
        "As explained in lecture, Unix stores most information in text files. For example, the list of all users and their home directories are stored in \"/etc/passwd\". Let get some familiarity with the most commonly used commands to manipulate files.\n",
        "\n",
        "   - You can see the contents contents a file using the \"cat\" (concatenate) command. Try executing \"cat /etc/passwd\". You'll get a huge list that will go by your screen quickly. \n",
        "   \n",
        "   - To go through the file page by page, you can use the \"less\" or \"more\" commands. \n",
        "   \n",
        "   - You can see the first or last N (N=10 by default) lines of a file using \"head\" or \"tail\" commands. For example \"tail -20 /etc/passwd\" will list the last 20 lines. \n",
        "   \n",
        "   - You can search a test file using the \"grep\" command, which takes a string keyword as the first argument and a filename as the second, and by default prints out every line in the file that contrains the string. So for example you can do \"grep \\$USER /etc/passwd\" to find the line corresponding to your account. Some useful flags: \n",
        "   \n",
        "   - \"-i\" ignores the case of the keyword\n",
        "   - \"-v\" display those lines that do NOT match \n",
        "   - \"-n\" precede each matching line with the line number \n",
        "   - \"-c\" print only the total count of matched lines \n",
        "   \n",
        "   For example \"grep -c \\$USER /etc/passwd\" should show that you are in the password file just once. \n",
        "   \n",
        "   - The \"wc\" (word count) command counts the number of lines, words, and characters in a file. By default \"wc\" gives you all three numbers, but \"-w\", \"-l\", or \"-c\" flags \n",
        "\n",
        "*Exercise 4:* Count how many lines in the password file contain the letter \"w\". "
      ]
    },
    {
      "cell_type": "code",
      "metadata": {
        "colab_type": "code",
        "id": "UlsANMuf2qMs",
        "outputId": "fa1579f3-90aa-4848-e0bb-53fb994c2e89",
        "colab": {
          "base_uri": "https://localhost:8080/",
          "height": 164
        }
      },
      "source": [
        "!/bin/bash --noediting"
      ],
      "execution_count": 0,
      "outputs": [
        {
          "output_type": "stream",
          "text": [
            "bash: cannot set terminal process group (125): Inappropriate ioctl for device\n",
            "bash: no job control in this shell\n",
            "\u001b]0;root@83b085debe7e: /content\u0007\u001b[01;32mroot@83b085debe7e\u001b[00m:\u001b[01;34m/content\u001b[00m# wc -w $USER/etc/passwd\n",
            "33 /etc/passwd\n",
            "\u001b]0;root@83b085debe7e: /content\u0007\u001b[01;32mroot@83b085debe7e\u001b[00m:\u001b[01;34m/content\u001b[00m# \n",
            "\u001b]0;root@83b085debe7e: /content\u0007\u001b[01;32mroot@83b085debe7e\u001b[00m:\u001b[01;34m/content\u001b[00m# \n",
            "\u001b]0;root@83b085debe7e: /content\u0007\u001b[01;32mroot@83b085debe7e\u001b[00m:\u001b[01;34m/content\u001b[00m# \n",
            "\u001b]0;root@83b085debe7e: /content\u0007\u001b[01;32mroot@83b085debe7e\u001b[00m:\u001b[01;34m/content\u001b[00m# ^C\n"
          ],
          "name": "stdout"
        }
      ]
    },
    {
      "cell_type": "markdown",
      "metadata": {
        "colab_type": "text",
        "id": "SZuhLbD8qvz5"
      },
      "source": [
        "## Redirection\n",
        "\n",
        "Unix provides programs \"pipes\" for input and output. Most of what you see on the screen when you run a program  was written to the \"stdout\" (standard output) pipe. Other pipes are \"stdin\" (standard input) and \"stderr\" (standard error), where error messages are written.\n",
        "\n",
        "As discussed in lecture, the basic commands of are simple, but you can chain them to do complicated things. Redirection is how you chain these commands, directing the output of one command to the input of the next.\n",
        "\n",
        "As an example, consider the \"cat\" command. Cat takes stdin and outputs it to stdout. Type \"cat\" and press enter and confirm. You can get back to the command prompt by pressing \"control-c\" (sends terminate singal) or \"control-d\" (end of file character). Note that from now on we will use the convention: \"control-d\" = \"^D\"\n",
        "\n",
        "*Exercise 5a:* Using \"cat\" and indirection you can write things into a file. The \">\" symbol directs stdout into a file. Try \"cat > favorite-colors-list.txt\" and then type in your 3 favorite colors, each on it's own line. Use \"^D\" to end your input."
      ]
    },
    {
      "cell_type": "markdown",
      "metadata": {
        "colab_type": "text",
        "id": "H5vxtcXnqvz6"
      },
      "source": [
        "Use \"cat\", \"more\", or \"less\" to confirm that you file is as you expect it. \">>\" allows you to append to the file. \n",
        "\n",
        "*Exercise 5b:* Append 2 more colors to your file."
      ]
    },
    {
      "cell_type": "code",
      "metadata": {
        "colab_type": "code",
        "id": "twRKNaGy3XGw",
        "outputId": "b7007a95-7dec-4eb1-e141-ebfc5d3f9e56",
        "colab": {
          "base_uri": "https://localhost:8080/",
          "height": 568
        }
      },
      "source": [
        "!/bin/bash --noediting"
      ],
      "execution_count": 0,
      "outputs": [
        {
          "output_type": "stream",
          "text": [
            "bash: cannot set terminal process group (125): Inappropriate ioctl for device\n",
            "bash: no job control in this shell\n",
            "\u001b]0;root@83b085debe7e: /content\u0007\u001b[01;32mroot@83b085debe7e\u001b[00m:\u001b[01;34m/content\u001b[00m# cd ../../.. Lab-1-Solutions\n",
            "bash: cd: too many arguments\n",
            "\u001b]0;root@83b085debe7e: /content\u0007\u001b[01;32mroot@83b085debe7e\u001b[00m:\u001b[01;34m/content\u001b[00m# cd..\n",
            "bash: cd..: command not found\n",
            "\u001b]0;root@83b085debe7e: /content\u0007\u001b[01;32mroot@83b085debe7e\u001b[00m:\u001b[01;34m/content\u001b[00m# cd ..\n",
            "\u001b]0;root@83b085debe7e: /\u0007\u001b[01;32mroot@83b085debe7e\u001b[00m:\u001b[01;34m/\u001b[00m# cd /content/drive/'My drive'/Data-1441/Lab-1-Solutions\n",
            "bash: cd: /content/drive/My drive/Data-1441/Lab-1-Solutions: No such file or directory\n",
            "\u001b]0;root@83b085debe7e: /\u0007\u001b[01;32mroot@83b085debe7e\u001b[00m:\u001b[01;34m/\u001b[00m# cd /content\n",
            "\u001b]0;root@83b085debe7e: /content\u0007\u001b[01;32mroot@83b085debe7e\u001b[00m:\u001b[01;34m/content\u001b[00m# cd /drive\n",
            "bash: cd: /drive: No such file or directory\n",
            "\u001b]0;root@83b085debe7e: /content\u0007\u001b[01;32mroot@83b085debe7e\u001b[00m:\u001b[01;34m/content\u001b[00m# cd drive\n",
            "\u001b]0;root@83b085debe7e: /content/drive\u0007\u001b[01;32mroot@83b085debe7e\u001b[00m:\u001b[01;34m/content/drive\u001b[00m# cd My Drive\n",
            "bash: cd: too many arguments\n",
            "\u001b]0;root@83b085debe7e: /content/drive\u0007\u001b[01;32mroot@83b085debe7e\u001b[00m:\u001b[01;34m/content/drive\u001b[00m# cd 'My Drive'\n",
            "\u001b]0;root@83b085debe7e: /content/drive/My Drive\u0007\u001b[01;32mroot@83b085debe7e\u001b[00m:\u001b[01;34m/content/drive/My Drive\u001b[00m# cd Data-1441\n",
            "\u001b]0;root@83b085debe7e: /content/drive/My Drive/Data-1441\u0007\u001b[01;32mroot@83b085debe7e\u001b[00m:\u001b[01;34m/content/drive/My Drive/Data-1441\u001b[00m# cd Lab-1-Solutions\n",
            "\u001b]0;root@83b085debe7e: /content/drive/My Drive/Data-1441/Lab-1-Solutions\u0007\u001b[01;32mroot@83b085debe7e\u001b[00m:\u001b[01;34m/content/drive/My Drive/Data-1441/Lab-1-Solutions\u001b[00m# cat > favorite-colors-list.txt\n",
            "green\n",
            "red\n",
            "purple\n",
            "^C\n",
            "\n",
            "\u001b]0;root@83b085debe7e: /content/drive/My Drive/Data-1441/Lab-1-Solutions\u0007\u001b[01;32mroot@83b085debe7e\u001b[00m:\u001b[01;34m/content/drive/My Drive/Data-1441/Lab-1-Solutions\u001b[00m# ^C\n",
            "bash: :s^C: substitution failed\n",
            "\u001b]0;root@83b085debe7e: /content/drive/My Drive/Data-1441/Lab-1-Solutions\u0007\u001b[01;32mroot@83b085debe7e\u001b[00m:\u001b[01;34m/content/drive/My Drive/Data-1441/Lab-1-Solutions\u001b[00m# ^D\n",
            "bash: :s^D: substitution failed\n",
            "\u001b]0;root@83b085debe7e: /content/drive/My Drive/Data-1441/Lab-1-Solutions\u0007\u001b[01;32mroot@83b085debe7e\u001b[00m:\u001b[01;34m/content/drive/My Drive/Data-1441/Lab-1-Solutions\u001b[00m# \n",
            "\u001b]0;root@83b085debe7e: /content/drive/My Drive/Data-1441/Lab-1-Solutions\u0007\u001b[01;32mroot@83b085debe7e\u001b[00m:\u001b[01;34m/content/drive/My Drive/Data-1441/Lab-1-Solutions\u001b[00m# ^C\n"
          ],
          "name": "stdout"
        }
      ]
    },
    {
      "cell_type": "code",
      "metadata": {
        "id": "cNS8LPo1Wy-x",
        "colab_type": "code",
        "outputId": "4f872272-26c5-4bed-be96-c3ef17823cde",
        "colab": {
          "base_uri": "https://localhost:8080/",
          "height": 256
        }
      },
      "source": [
        "!/bin/bash --noediting"
      ],
      "execution_count": 0,
      "outputs": [
        {
          "output_type": "stream",
          "text": [
            "bash: cannot set terminal process group (125): Inappropriate ioctl for device\n",
            "bash: no job control in this shell\n",
            "\u001b]0;root@83b085debe7e: /content\u0007\u001b[01;32mroot@83b085debe7e\u001b[00m:\u001b[01;34m/content\u001b[00m# rm favorite-colors-list.txt\n",
            "\u001b]0;root@83b085debe7e: /content\u0007\u001b[01;32mroot@83b085debe7e\u001b[00m:\u001b[01;34m/content\u001b[00m# cd drive/'My Drive'/Data-1441/Lab-1-Solutions\n",
            "\u001b]0;root@83b085debe7e: /content/drive/My Drive/Data-1441/Lab-1-Solutions\u0007\u001b[01;32mroot@83b085debe7e\u001b[00m:\u001b[01;34m/content/drive/My Drive/Data-1441/Lab-1-Solutions\u001b[00m# cat >> favorite-colors-list.txt\n",
            "green\n",
            "red\n",
            "orange\n",
            "pink\n",
            "purple\n",
            "\n",
            "\u001b]0;root@83b085debe7e: /content/drive/My Drive/Data-1441/Lab-1-Solutions\u0007\u001b[01;32mroot@83b085debe7e\u001b[00m:\u001b[01;34m/content/drive/My Drive/Data-1441/Lab-1-Solutions\u001b[00m# \n",
            "\u001b]0;root@83b085debe7e: /content/drive/My Drive/Data-1441/Lab-1-Solutions\u0007\u001b[01;32mroot@83b085debe7e\u001b[00m:\u001b[01;34m/content/drive/My Drive/Data-1441/Lab-1-Solutions\u001b[00m# ^C\n"
          ],
          "name": "stdout"
        }
      ]
    },
    {
      "cell_type": "markdown",
      "metadata": {
        "colab_type": "text",
        "id": "DZODNKiAqvz8"
      },
      "source": [
        "The \"sort\" command sorts what it sees on stdin. Instead of taking input from the terminal, you can direct the shell to take stdin from a file using \"<\". Try \"sort < favorite-color-list.txt\" and \"sort < favorite-color-list.txt > sorted-favorite-color-list.txt\".\n",
        "\n",
        "Finally, instead of piping input / output into files, you can directly chain one program into another using \"|\". So for example, you can do \"cat /etc/passwd | grep -i \\$USER | wc -l\". \n",
        "\n",
        "*Exercise 5c:* Use indirection to count the number of users on TACC with your first name. Copy the command you used into box below."
      ]
    },
    {
      "cell_type": "code",
      "metadata": {
        "colab_type": "code",
        "id": "oP9XlZl_3iZD",
        "outputId": "0bb3b23a-a861-4f07-d4a4-10ccc57e0f70",
        "colab": {
          "base_uri": "https://localhost:8080/",
          "height": 219
        }
      },
      "source": [
        "!/bin/bash --noediting"
      ],
      "execution_count": 0,
      "outputs": [
        {
          "output_type": "stream",
          "text": [
            "bash: cannot set terminal process group (125): Inappropriate ioctl for device\n",
            "bash: no job control in this shell\n",
            "\u001b]0;root@83b085debe7e: /content\u0007\u001b[01;32mroot@83b085debe7e\u001b[00m:\u001b[01;34m/content\u001b[00m# cat /etc/passwd | grep -i $USER | wc -Cody\n",
            "Usage: grep [OPTION]... PATTERN [FILE]...\n",
            "Try 'grep --help' for more information.\n",
            "wc: invalid option -- 'C'\n",
            "Try 'wc --help' for more information.\n",
            "\u001b]0;root@83b085debe7e: /content\u0007\u001b[01;32mroot@83b085debe7e\u001b[00m:\u001b[01;34m/content\u001b[00m# \n",
            "\u001b]0;root@83b085debe7e: /content\u0007\u001b[01;32mroot@83b085debe7e\u001b[00m:\u001b[01;34m/content\u001b[00m# \n",
            "\u001b]0;root@83b085debe7e: /content\u0007\u001b[01;32mroot@83b085debe7e\u001b[00m:\u001b[01;34m/content\u001b[00m# \n",
            "\u001b]0;root@83b085debe7e: /content\u0007\u001b[01;32mroot@83b085debe7e\u001b[00m:\u001b[01;34m/content\u001b[00m# ^C\n"
          ],
          "name": "stdout"
        }
      ]
    },
    {
      "cell_type": "markdown",
      "metadata": {
        "colab_type": "text",
        "id": "v5IaZXNyqvz_"
      },
      "source": [
        "## Git\n",
        "\n",
        "`git` is a Version Control System (VCS), typically used to organize the source code of software project but also good source of documents or web-pages. An instance of `git` server stores repositories, each typically containing the code relevant to a specific project. Users create local `clones` of repositories, change and develop the local copies of the code, `commit` the changes to their local repository, `push` to the server as a contribution,  \n",
        "`pull` updates from the server, and `merge` changes between local and remote versions. \n",
        "\n",
        "Besides cloning, repositories can be branched or forked. A repository generally starts with a `master` branch that evolves as push requests are merged in. Creating a new branch from an existing branch creates a snapshot of the which can evolve independently or be merged in later. Branches are easy to make and delete, and can serve various purposes. They can represent a stable version of software package. Or a parallel development for different operating system. A fork of a repository is a standalone instance of the repository which can be stored and managed independently from the original, where you can work independently without constraints or interference. \n",
        "\n",
        "[GitHub](github.com) provides a massive publically accessible instance of a `git` system besides sharing code, projects can be developed by the open source community. It provides tools for managing your repository and a wiki for documentation. Contributions to public software on GitHub generally require making a merge request which would be judged by the managers of the repository. That's why most software packages enourage you to create a new fork, so you can work independently.\n",
        "\n",
        "Lets take a look at some repositories:\n",
        "\n",
        "* [This class](https://github.com/afarbin/DATA1401-Spring-2020)\n",
        "\n",
        "\n",
        "\n"
      ]
    },
    {
      "cell_type": "markdown",
      "metadata": {
        "colab_type": "text",
        "id": "J_R64sQDqv0A"
      },
      "source": [
        "## Plan\n",
        "\n",
        "You made a clone of the class repository at start of this lab. We will create a new fork where you can keep track and submit your work, following [these instructions](https://help.github.com/articles/fork-a-repo/).\n",
        "\n",
        "Goto to github.com and log in.\n",
        "\n",
        "Next, lets create a fork of the [class repository](https://github.com/afarbin/DATA1401-Spring-2019). Click the link and press the \"Fork\" button on the top right. Select your repository as where you want to place the fork.\n"
      ]
    },
    {
      "cell_type": "markdown",
      "metadata": {
        "colab_type": "text",
        "id": "edTvE6rOqv0C"
      },
      "source": [
        "Now we will check out your fork in your Google Drive / Colab.\n",
        "\n",
        "Note: Jupyter allows you to run shell directly in a notebook. We will use `!` and `%` to call shell commands directly in this notebook. Follow along yourself. Either create a new notebook or open a terminal. \n",
        "\n",
        "Start by listing the contents of your current directory."
      ]
    },
    {
      "cell_type": "code",
      "metadata": {
        "colab_type": "code",
        "id": "e5tXg0f8qv0D",
        "colab": {}
      },
      "source": [
        "%cd /content/drive/My\\ Drive\n",
        "!ls"
      ],
      "execution_count": 0,
      "outputs": []
    },
    {
      "cell_type": "markdown",
      "metadata": {
        "colab_type": "text",
        "id": "WYsyYcg1qv0J"
      },
      "source": [
        "Make a new directory:"
      ]
    },
    {
      "cell_type": "code",
      "metadata": {
        "colab_type": "code",
        "id": "Z7noY1hMqv0L",
        "colab": {}
      },
      "source": [
        "!mkdir Data-1401-Repo\n",
        "%cd Data-1401-Repo"
      ],
      "execution_count": 0,
      "outputs": []
    },
    {
      "cell_type": "markdown",
      "metadata": {
        "colab_type": "text",
        "id": "fwsBdTnYqv0Q"
      },
      "source": [
        "From the github page for your fork, press the green \"Clone or download\" button and copy the URL.\n",
        "\n",
        "Goto to your notebook and use the following command to clone the repository, pasting the URL you just copied:\n"
      ]
    },
    {
      "cell_type": "code",
      "metadata": {
        "colab_type": "code",
        "id": "8w42MH6Jqv0S",
        "colab": {}
      },
      "source": [
        "# What you past here should look like:\n",
        "#!git clone https://github.com/<your github username>/DATA1401-Spring-2020.git"
      ],
      "execution_count": 0,
      "outputs": []
    },
    {
      "cell_type": "markdown",
      "metadata": {
        "colab_type": "text",
        "id": "cOAuqTVUqv0V"
      },
      "source": [
        "Go into the directory:"
      ]
    },
    {
      "cell_type": "code",
      "metadata": {
        "colab_type": "code",
        "id": "b1Ew4tEZqv0X",
        "colab": {}
      },
      "source": [
        "%cd DATA1401-Spring-2020\n",
        "!ls"
      ],
      "execution_count": 0,
      "outputs": []
    },
    {
      "cell_type": "markdown",
      "metadata": {
        "colab_type": "text",
        "id": "IrhWToc-qv0a"
      },
      "source": [
        "We will now connect your fork to the original so you can pull changes from there. \n",
        "\n",
        "Check remote status:"
      ]
    },
    {
      "cell_type": "code",
      "metadata": {
        "colab_type": "code",
        "id": "JxtMYR-9qv0c",
        "colab": {}
      },
      "source": [
        "!git remote -v"
      ],
      "execution_count": 0,
      "outputs": []
    },
    {
      "cell_type": "markdown",
      "metadata": {
        "colab_type": "text",
        "id": "9ud3X0fBqv0f"
      },
      "source": [
        "Now use the original class URL to set your upstream:"
      ]
    },
    {
      "cell_type": "code",
      "metadata": {
        "colab_type": "code",
        "id": "pgJlKxBqqv0h",
        "colab": {}
      },
      "source": [
        "!git remote add upstream https://github.com/afarbin/DATA1401-Spring-2020.git"
      ],
      "execution_count": 0,
      "outputs": []
    },
    {
      "cell_type": "code",
      "metadata": {
        "colab_type": "code",
        "id": "id2yUEt9qv0k",
        "colab": {}
      },
      "source": [
        "!git remote -v"
      ],
      "execution_count": 0,
      "outputs": []
    },
    {
      "cell_type": "markdown",
      "metadata": {
        "colab_type": "text",
        "id": "sAkgeJ6Iqv0n"
      },
      "source": [
        "From now on, you can get the newest version of class material by using:"
      ]
    },
    {
      "cell_type": "code",
      "metadata": {
        "colab_type": "code",
        "id": "AGDsfTFLqv0o",
        "colab": {}
      },
      "source": [
        "!git pull"
      ],
      "execution_count": 0,
      "outputs": []
    },
    {
      "cell_type": "markdown",
      "metadata": {
        "colab_type": "text",
        "id": "u9RAhs5b4vXY"
      },
      "source": [
        "We will submit your Lab 1 using git at the next Lab."
      ]
    },
    {
      "cell_type": "code",
      "metadata": {
        "colab_type": "code",
        "id": "PPfGmFQI40HR",
        "colab": {}
      },
      "source": [
        ""
      ],
      "execution_count": 0,
      "outputs": []
    }
  ]
}
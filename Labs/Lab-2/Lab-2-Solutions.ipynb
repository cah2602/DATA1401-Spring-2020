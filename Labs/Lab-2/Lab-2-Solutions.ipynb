{
  "nbformat": 4,
  "nbformat_minor": 0,
  "metadata": {
    "colab": {
      "name": "Copy of Lab-2.ipynb",
      "provenance": [],
      "collapsed_sections": [],
      "toc_visible": true
    },
    "kernelspec": {
      "display_name": "Python 3",
      "language": "python",
      "name": "python3"
    },
    "language_info": {
      "codemirror_mode": {
        "name": "ipython",
        "version": 3
      },
      "file_extension": ".py",
      "mimetype": "text/x-python",
      "name": "python",
      "nbconvert_exporter": "python",
      "pygments_lexer": "ipython3",
      "version": "3.8.1"
    }
  },
  "cells": [
    {
      "cell_type": "markdown",
      "metadata": {
        "colab_type": "text",
        "id": "uk7yc0nadBGa"
      },
      "source": [
        "# Lab 2\n",
        "\n",
        "[![Open In Colab](https://colab.research.google.com/assets/colab-badge.svg)](https://colab.research.google.com/github//afarbin/DATA1401-Spring-2020/blob/master/Labs/Lab-2/Lab-2.ipynb)\n",
        "\n",
        "## Submitting lab solutions\n",
        "\n",
        "At the end of the previous lab, you should have set up a \"Solutions\" directory in your Google Drive, with a fork of the class git repository that pull from Dr. Farbin's verison and pushes to your own fork. \n",
        "\n",
        "Unfortunately due to a typo in the previous lab, you probably forked the 2019 version of the gitlab repository for this course. Unless you noticed and corrected the error, you'll have to fork again.\n",
        "\n",
        "In addition, due to some problems with the setup in Google Colab, we will be submitting our solutions to your fork using the web interface. Instructions on how to use the command-line are in this notebook, but we suggest you do not follow them unless you are working in a jupyter notebook and not Google Colab."
      ]
    },
    {
      "cell_type": "code",
      "metadata": {
        "id": "IBI6qU3E6U2E",
        "colab_type": "code",
        "outputId": "1d51d749-082e-4673-aeeb-b4c65b5e9f2d",
        "colab": {
          "base_uri": "https://localhost:8080/",
          "height": 129
        }
      },
      "source": [
        "from google.colab import drive\n",
        "drive.mount('/content/drive')"
      ],
      "execution_count": 0,
      "outputs": [
        {
          "output_type": "stream",
          "text": [
            "Go to this URL in a browser: https://accounts.google.com/o/oauth2/auth?client_id=947318989803-6bn6qk8qdgf4n4g3pfee6491hc0brc4i.apps.googleusercontent.com&redirect_uri=urn%3aietf%3awg%3aoauth%3a2.0%3aoob&response_type=code&scope=email%20https%3a%2f%2fwww.googleapis.com%2fauth%2fdocs.test%20https%3a%2f%2fwww.googleapis.com%2fauth%2fdrive%20https%3a%2f%2fwww.googleapis.com%2fauth%2fdrive.photos.readonly%20https%3a%2f%2fwww.googleapis.com%2fauth%2fpeopleapi.readonly\n",
            "\n",
            "Enter your authorization code:\n",
            "··········\n",
            "Mounted at /content/drive\n"
          ],
          "name": "stdout"
        }
      ]
    },
    {
      "cell_type": "markdown",
      "metadata": {
        "colab_type": "text",
        "id": "OMNaOnRksNK3"
      },
      "source": [
        "You may also choose to delete the fork from your GitHub account. "
      ]
    },
    {
      "cell_type": "markdown",
      "metadata": {
        "colab_type": "text",
        "id": "J_R64sQDqv0A"
      },
      "source": [
        "## Repeating last steps of Lab 1\n",
        "\n",
        "### Create your own fork\n",
        "We will create a new fork where you can keep track and submit your work, following [these instructions](https://help.github.com/articles/fork-a-repo/).\n",
        "\n",
        "Goto to github.com and log in.\n",
        "\n",
        "Next, create a fork of the [2020 class repository](https://github.com/afarbin/DATA1401-Spring-2020). Click the link and press the \"Fork\" button on the top right. Select your repository as where you want to place the fork.\n"
      ]
    },
    {
      "cell_type": "markdown",
      "metadata": {
        "colab_type": "text",
        "id": "edTvE6rOqv0C"
      },
      "source": [
        "### Make a local clone (Advanced)\n",
        "\n",
        "Before we get started, please mount your Google Drive using by clicking the file icon on the left, then clicking \"Mount Drive\", and following the instructions as you did in the previous lab.\n",
        "\n",
        "If you did complete Lab 1 and therefore created a 2019 fork and a local clone in you Google Drive, delete the local clone:\n",
        "\n"
      ]
    },
    {
      "cell_type": "code",
      "metadata": {
        "colab_type": "code",
        "id": "2u6B-rfNr1wN",
        "colab": {}
      },
      "source": [
        "!rm -rf drive/My\\ Drive/Data-1401-Repo"
      ],
      "execution_count": 0,
      "outputs": []
    },
    {
      "cell_type": "markdown",
      "metadata": {
        "colab_type": "text",
        "id": "BDVI5nu8-2RH"
      },
      "source": [
        "Now we will check out your fork in your Google Drive / Colab. If you will be doing everything on your own computer instead of Google Colab/Drive, you are welcome to install Git on your computer and perform the following steps (appropriately modified) on your computer instead.\n",
        "\n",
        "Start by listing the contents of your current directory."
      ]
    },
    {
      "cell_type": "code",
      "metadata": {
        "colab_type": "code",
        "id": "e5tXg0f8qv0D",
        "colab": {}
      },
      "source": [
        "%cd /content/drive/My\\ Drive\n",
        "!ls"
      ],
      "execution_count": 0,
      "outputs": []
    },
    {
      "cell_type": "markdown",
      "metadata": {
        "colab_type": "text",
        "id": "WYsyYcg1qv0J"
      },
      "source": [
        "Make a new directory:"
      ]
    },
    {
      "cell_type": "code",
      "metadata": {
        "colab_type": "code",
        "id": "Z7noY1hMqv0L",
        "colab": {}
      },
      "source": [
        "!mkdir Data-1401-Repo\n",
        "%cd Data-1401-Repo"
      ],
      "execution_count": 0,
      "outputs": []
    },
    {
      "cell_type": "markdown",
      "metadata": {
        "colab_type": "text",
        "id": "fwsBdTnYqv0Q"
      },
      "source": [
        "From the github page for your fork, press the green \"Clone or download\" button and copy the URL.\n",
        "\n",
        "Goto to your notebook and use the following command to clone the repository, pasting the URL you just copied:\n"
      ]
    },
    {
      "cell_type": "code",
      "metadata": {
        "colab_type": "code",
        "id": "8w42MH6Jqv0S",
        "colab": {}
      },
      "source": [
        "# What you past here should look like:\n",
        "#!git clone https://github.com/<github username/DATA1401-Spring-2020.git\n"
      ],
      "execution_count": 0,
      "outputs": []
    },
    {
      "cell_type": "markdown",
      "metadata": {
        "colab_type": "text",
        "id": "cOAuqTVUqv0V"
      },
      "source": [
        "Go into the directory:"
      ]
    },
    {
      "cell_type": "code",
      "metadata": {
        "colab_type": "code",
        "id": "b1Ew4tEZqv0X",
        "colab": {}
      },
      "source": [
        "%cd DATA1401-Spring-2020\n",
        "!ls"
      ],
      "execution_count": 0,
      "outputs": []
    },
    {
      "cell_type": "markdown",
      "metadata": {
        "colab_type": "text",
        "id": "IrhWToc-qv0a"
      },
      "source": [
        "We will now connect your fork to the original so you can pull changes from there. \n",
        "\n",
        "Check remote status:"
      ]
    },
    {
      "cell_type": "code",
      "metadata": {
        "colab_type": "code",
        "id": "JxtMYR-9qv0c",
        "colab": {}
      },
      "source": [
        "!git remote -v"
      ],
      "execution_count": 0,
      "outputs": []
    },
    {
      "cell_type": "markdown",
      "metadata": {
        "colab_type": "text",
        "id": "9ud3X0fBqv0f"
      },
      "source": [
        "Now use the original class URL to set your upstream:"
      ]
    },
    {
      "cell_type": "code",
      "metadata": {
        "colab_type": "code",
        "id": "pgJlKxBqqv0h",
        "colab": {}
      },
      "source": [
        "!git remote add upstream https://github.com/afarbin/DATA1401-Spring-2020.git"
      ],
      "execution_count": 0,
      "outputs": []
    },
    {
      "cell_type": "code",
      "metadata": {
        "colab_type": "code",
        "id": "id2yUEt9qv0k",
        "colab": {}
      },
      "source": [
        "!git remote -v"
      ],
      "execution_count": 0,
      "outputs": []
    },
    {
      "cell_type": "markdown",
      "metadata": {
        "colab_type": "text",
        "id": "sAkgeJ6Iqv0n"
      },
      "source": [
        "From now on, you can get the newest version of class material by using:"
      ]
    },
    {
      "cell_type": "code",
      "metadata": {
        "colab_type": "code",
        "id": "AGDsfTFLqv0o",
        "colab": {}
      },
      "source": [
        "!git pull"
      ],
      "execution_count": 0,
      "outputs": []
    },
    {
      "cell_type": "markdown",
      "metadata": {
        "colab_type": "text",
        "id": "u9RAhs5b4vXY"
      },
      "source": [
        "You should be setup now.\n",
        "\n",
        "## Make your for Private\n",
        "\n",
        "As a final step, go back to your fork in GitHub and click the \"gear\" icon to change the settings. Select \"Options\" on the left and scroll all the way down. Then click on \"Make Private\" to make your repository private. \n",
        "\n",
        "Next select the collaborators on the left and add your Professor and TA as collaborators. "
      ]
    },
    {
      "cell_type": "markdown",
      "metadata": {
        "colab_type": "text",
        "id": "i1q1wv0IqqBL"
      },
      "source": [
        "## Working on and Submitting Labs\n",
        "\n",
        "As mentioned in class, you are welcome to not use Google Colab and instead install and use your own instance of Jupyter to work on the labs.\n",
        "\n",
        "No matter where you do you work, you will submit your work into your fork of the class repository in GitHub. \n",
        "\n",
        "### Updating your fork\n",
        "\n",
        "The class repository will be updated several times a week. But your fork will not be updated, unless you do so explicitly. There are two ways for you to update your fork:\n",
        "\n",
        "1. Use GitHub's web interface to make a pull request from the course base to your fork.\n",
        "  * Goto your fork in GitHub.\n",
        "  * Press \"New Pull Request\"\n",
        "  * You should see option to select base/head repository that allows you to select \"afarbin/Data1401-Spring-2020\" as the base. If not press \"compare accross forks\".\n",
        "  * Make sure you select your fork as the head.\n",
        "  * Press \"Create a pull request\".\n",
        "  * Press \"Merge pull request\".\n",
        "  * Press \"Confirm pull\".\n",
        "\n",
        "2. Go to your clone of your fork in Google Drive (or local on your computer) that setup above and do a `git pull`. (Advanced)\n",
        "\n",
        "### Working on your labs\n",
        "\n",
        "If you are working in Google Colab, you should immediately save a copy of you labs into your Google Drive as soon as you start working, and save frequently so you don't loose your work. These copies of the labs will appear in drive/My Drive/Colab Notebooks. \n",
        "\n",
        "### Submitting your labs\n",
        "\n",
        "Once you are done with a lab and are ready to submit, you have several options:\n",
        "\n",
        "1. You can download the lab to your local computer and them commit to your GitHub fork via GitHub's web interface. \n",
        "\n",
        "  * Download by selecting \"Download .ipynb\" from the file menu.\n",
        "  * Appropriately rename the downloaded file (for example Lab-1-Solutions.ipynb).\n",
        "  * On github, navigate to the directory for the specific lab.\n",
        "  * Click on upload and upload your solutions.\n",
        "\n",
        "2. (Advanced) You can copy the lab into your fork and commit/push using the command-line. Here's how:\n",
        "\n",
        "  * Using \"cd\" command navigate to the clone of your fork in Google Drive (or local) and do  `git remote -v` to verify that things are correctly setup.\n",
        "\n",
        "  * If you are working on Google Colab, your copy of lab with your solutions is stored in contents/drive/My Drive/Colab Notebooks. Locate the your lab 1 notebook and copy and rename it into the same directory in your fork. \n",
        "\n",
        "For example: (Note we are using the full paths here just to make sure everything works... but if you are already in the fork directory, you don't need the full path everywhere)."
      ]
    },
    {
      "cell_type": "code",
      "metadata": {
        "colab_type": "code",
        "id": "CtPQXoQMdBGg",
        "colab": {}
      },
      "source": [
        "!cp /content/drive/My\\ Drive/Colab\\ Notebooks/Copy\\ of\\ Lab-2.ipynb /content/drive/My\\ Drive/Data-1401-Repo/DATA1401-Spring-2020/Labs/Lab-2/Lab-2-Solution.ipynb"
      ],
      "execution_count": 0,
      "outputs": []
    },
    {
      "cell_type": "markdown",
      "metadata": {
        "colab_type": "text",
        "id": "b04FrL7sdBGr"
      },
      "source": [
        "The reason we are renaming the file is due to a complication that you may experience when pulling updates into your fork. If a file was updated after your last pull and modifications, your modifications will likely cause a merge conflict, which can be a headache to resolve. Creating a new file side-steps this problem.\n",
        "\n",
        "Now that you have a new file in your fork, add the file into local repository:"
      ]
    },
    {
      "cell_type": "code",
      "metadata": {
        "colab_type": "code",
        "id": "2o9JmQ1QdBGs",
        "colab": {}
      },
      "source": [
        "!git add /content/drive/My\\ Drive/Data-1401-Repo/DATA1401-Spring-2020/Labs/Lab-2/Lab-2-Solution.ipynb"
      ],
      "execution_count": 0,
      "outputs": []
    },
    {
      "cell_type": "markdown",
      "metadata": {
        "colab_type": "text",
        "id": "HX4xOctmdBG0"
      },
      "source": [
        "You only need to add a file once. Next, commit this file to your local copy of the repository. If this is the first time you are doing a commit, you will have to tell git your github username."
      ]
    },
    {
      "cell_type": "code",
      "metadata": {
        "colab_type": "code",
        "id": "Tn9jf5VXdBG1",
        "colab": {}
      },
      "source": [
        "# Uncomment and modify lines below if needed\n",
        "#!git config --global user.email \"you@example.com\"\n",
        "#!git config --global user.name \"Your Name\"\n",
        "!git commit -a -m \"My Lab 2 Solutions\""
      ],
      "execution_count": 0,
      "outputs": []
    },
    {
      "cell_type": "markdown",
      "metadata": {
        "colab_type": "text",
        "id": "JfKXTlv1dBG5"
      },
      "source": [
        "You are required to provide a text message when commiting files, and the `-m` option is the nicest way to do it. If you do not supply a message, you will find yourself in a text editor (most likely vi) which is difficult to use and forced to enter a message.\n",
        "\n",
        "You will need to commit your changes every time you wish to submit any changes. So if you keep working or come back to a lab, make sure you commit your changes.\n",
        "\n",
        "Now that you committed your changes, you will need to push these changes to the fork of the package in your github account:"
      ]
    },
    {
      "cell_type": "code",
      "metadata": {
        "colab_type": "code",
        "id": "L7UZOLYAdBG6",
        "colab": {}
      },
      "source": [
        "!git push"
      ],
      "execution_count": 0,
      "outputs": []
    },
    {
      "cell_type": "markdown",
      "metadata": {
        "colab_type": "text",
        "id": "3dI_D9PAdBG-"
      },
      "source": [
        "You will likely need to supply you git username and password.\n",
        "\n",
        "Your lab is now available for grading. Remember that unless you commit and push your work, it will not be seen.\n",
        "\n",
        "From now on, use this procedure to submit your solutions to labs, including the remainder of this lab. \n",
        "\n",
        "You can work in your Solutions directory if you like. But note that it may be a good practice to use the \"File\" menu to duplicate and remain labs when you first start. Besides letting you avoid having to do the copy later, you will have a copy of the original notebook, in case you delete something and can pull updates, in case of bug fixes."
      ]
    },
    {
      "cell_type": "markdown",
      "metadata": {
        "colab_type": "text",
        "id": "q-gMWiE4dBG_"
      },
      "source": [
        "## Python Programming\n",
        "\n",
        "In the remainder of this lab you will practice python by solving some simple exercises. \n",
        "\n",
        "*Exercise 1:* Write 2 functions `even(x)` and `odd(x)` that take an integer and returns True if the input is even or odd, otherwise returns False. Use cell below for your solution. Use the subsequent cell to demonstrate that your solution works. Feel free to add additional cell as needed using the \"+\" button on the button bar above. "
      ]
    },
    {
      "cell_type": "code",
      "metadata": {
        "colab_type": "code",
        "id": "jwN5jff1dBG_",
        "colab": {}
      },
      "source": [
        "# Write you solution here\n",
        "def even(x):\n",
        "  y=(x%2==0)\n",
        "  return y\n",
        "\n",
        "def odd(x):\n",
        "  z= (x%2!=0)\n",
        "  return z\n"
      ],
      "execution_count": 0,
      "outputs": []
    },
    {
      "cell_type": "code",
      "metadata": {
        "colab_type": "code",
        "id": "xNJAcodhdBHB",
        "outputId": "7897fc85-ad87-456a-a7c0-b32bd98dec7a",
        "colab": {
          "base_uri": "https://localhost:8080/",
          "height": 90
        }
      },
      "source": [
        "# Test your solution here\n",
        "print(even(4))\n",
        "print(odd(7))\n",
        "print(even(65))\n",
        "print(odd(40))"
      ],
      "execution_count": 0,
      "outputs": [
        {
          "output_type": "stream",
          "text": [
            "True\n",
            "True\n",
            "False\n",
            "False\n"
          ],
          "name": "stdout"
        }
      ]
    },
    {
      "cell_type": "markdown",
      "metadata": {
        "colab_type": "text",
        "id": "KL_pyzG8dBHD"
      },
      "source": [
        "*Exercise 2:* Write a function that takes a list of numbers as input and returns a list of the subset of elements that are less that 10. Test your solution."
      ]
    },
    {
      "cell_type": "code",
      "metadata": {
        "colab_type": "code",
        "id": "g8nt0wnldBHE",
        "colab": {}
      },
      "source": [
        "# Write you solution here\n",
        "def lessthenten(*x):\n",
        "  output=[]\n",
        "  for i in x:\n",
        "    if i<10:\n",
        "      output.append(i)\n",
        "  print(output)\n"
      ],
      "execution_count": 0,
      "outputs": []
    },
    {
      "cell_type": "code",
      "metadata": {
        "colab_type": "code",
        "id": "__HTUWA1dBHH",
        "outputId": "d1ba25c0-cb14-4023-8562-e587c1130abb",
        "colab": {
          "base_uri": "https://localhost:8080/",
          "height": 54
        }
      },
      "source": [
        "# Test your solution here\n",
        "lessthenten(1,2,7,59,38,6)\n",
        "lessthenten(8,49,11,29,10,74,4,6,2)"
      ],
      "execution_count": 0,
      "outputs": [
        {
          "output_type": "stream",
          "text": [
            "[1, 2, 7, 6]\n",
            "[8, 4, 6, 2]\n"
          ],
          "name": "stdout"
        }
      ]
    },
    {
      "cell_type": "markdown",
      "metadata": {
        "colab_type": "text",
        "id": "T0cx91JudBHK"
      },
      "source": [
        "*Exercise 3:* Write a function that takes a number `x_max` as input and returns a function that performs the same task as exercise 2, but for `x_max` instead of 10."
      ]
    },
    {
      "cell_type": "code",
      "metadata": {
        "colab_type": "code",
        "id": "PqummMcmdBHK",
        "colab": {}
      },
      "source": [
        "# Write you solution here\n",
        "def lessthenmax(x,x_max):\n",
        "  output=[]\n",
        "  for i in x:\n",
        "    if i<x_max:\n",
        "      output.append(i)\n",
        "  print(output)\n"
      ],
      "execution_count": 0,
      "outputs": []
    },
    {
      "cell_type": "code",
      "metadata": {
        "colab_type": "code",
        "id": "evRYemjXdBHN",
        "outputId": "c478b2a5-bd6c-47b1-f576-1709b7d1ee5b",
        "colab": {
          "base_uri": "https://localhost:8080/",
          "height": 35
        }
      },
      "source": [
        "# Test your solution here\n",
        "x=[1,5,10,50,4,79,27,69,4,1,7,28]\n",
        "x_max=32\n",
        "lessthenmax(x,x_max)"
      ],
      "execution_count": 0,
      "outputs": [
        {
          "output_type": "stream",
          "text": [
            "[1, 5, 10, 4, 27, 4, 1, 7, 28]\n"
          ],
          "name": "stdout"
        }
      ]
    },
    {
      "cell_type": "markdown",
      "metadata": {
        "colab_type": "text",
        "id": "h0I8M27LdBHP"
      },
      "source": [
        "*Exercise 4:* Write a function that takes an interger as input and returns a list of all divisors of that number."
      ]
    },
    {
      "cell_type": "code",
      "metadata": {
        "colab_type": "code",
        "id": "k6GUpDyrdBHP",
        "colab": {}
      },
      "source": [
        "# Write you solution here\n",
        "def divisors(x):\n",
        "  output=[]\n",
        "  for i in range(1,x+1):\n",
        "    if x%i==0:\n",
        "      output.append(i)\n",
        "  print(output)"
      ],
      "execution_count": 0,
      "outputs": []
    },
    {
      "cell_type": "code",
      "metadata": {
        "colab_type": "code",
        "id": "YDvRmft-dBHR",
        "outputId": "e287493d-1aa4-4d0a-a50d-7854b1f591e5",
        "colab": {
          "base_uri": "https://localhost:8080/",
          "height": 72
        }
      },
      "source": [
        "# Test your solution here\n",
        "divisors(24)\n",
        "divisors(7)\n",
        "divisors(100)"
      ],
      "execution_count": 0,
      "outputs": [
        {
          "output_type": "stream",
          "text": [
            "[1, 2, 3, 4, 6, 8, 12, 24]\n",
            "[1, 7]\n",
            "[1, 2, 4, 5, 10, 20, 25, 50, 100]\n"
          ],
          "name": "stdout"
        }
      ]
    },
    {
      "cell_type": "markdown",
      "metadata": {
        "colab_type": "text",
        "id": "IOWnLMvxdBHT"
      },
      "source": [
        "*Exercise 5:* Write a function that takes 2 lists as input and returns a list that contains only the elements that are common between the lists (without duplicates). Make sure your program works on two lists of different sizes."
      ]
    },
    {
      "cell_type": "code",
      "metadata": {
        "colab_type": "code",
        "id": "tR31bnTDdBHT",
        "colab": {}
      },
      "source": [
        "# Write you solution here\n",
        "def intersect(x,y):\n",
        "  output=[]\n",
        "  if len(x) < len(y):\n",
        "    for i in x:\n",
        "      if i in y and i not in output:\n",
        "        output.append(i)\n",
        "\n",
        "  if len(x) > len(y):\n",
        "    for i in y:\n",
        "      if i in x and i not in output:\n",
        "        output.append(i)\n",
        "\n",
        "  if len(x) == len(y):\n",
        "    for i in x:\n",
        "      if i in y and i not in output:\n",
        "        output.append(i)\n",
        "\n",
        "  print(output)\n"
      ],
      "execution_count": 0,
      "outputs": []
    },
    {
      "cell_type": "code",
      "metadata": {
        "colab_type": "code",
        "id": "IJDf6ebYdBHV",
        "outputId": "6f98b12c-6797-4dd2-c91e-5bd52c2a3721",
        "colab": {
          "base_uri": "https://localhost:8080/",
          "height": 51
        }
      },
      "source": [
        "# Test your solution here\n",
        "x=[1,2,3,4,5,6,4]\n",
        "y=[1,7,5,4,9,3,4]\n",
        "intersect(x,y)\n",
        "\n",
        "x=[4,8,3,7,0,2,1]\n",
        "y=[5,3,6,0,7]\n",
        "intersect(x,y)"
      ],
      "execution_count": 11,
      "outputs": [
        {
          "output_type": "stream",
          "text": [
            "[1, 3, 4, 5]\n",
            "[3, 0, 7]\n"
          ],
          "name": "stdout"
        }
      ]
    },
    {
      "cell_type": "markdown",
      "metadata": {
        "colab_type": "text",
        "id": "3vA7M9pldBHX"
      },
      "source": [
        "\n",
        "\n",
        "```\n",
        "## This is formatted as code\n",
        "```\n",
        "\n",
        "*Exercise 6:* Write a function that reads takes a string and returns `True` if the string is a palindrome. (A palindrome is a string that reads the same forwards and backwards.)"
      ]
    },
    {
      "cell_type": "code",
      "metadata": {
        "colab_type": "code",
        "id": "ncyMDzp6dBHX",
        "colab": {}
      },
      "source": [
        "# Write you solution here\n",
        "def reverse(x):\n",
        "  return x[::-1]\n",
        "\n",
        "def palindrome(x):\n",
        "  rev = reverse(x)\n",
        "\n",
        "  if (x==rev):\n",
        "    return True\n",
        "  return False\n",
        "  "
      ],
      "execution_count": 0,
      "outputs": []
    },
    {
      "cell_type": "code",
      "metadata": {
        "colab_type": "code",
        "id": "v5cmVQ6MdBHZ",
        "colab": {
          "base_uri": "https://localhost:8080/",
          "height": 34
        },
        "outputId": "7c67116c-9d2a-4c09-c38b-153ea82359fa"
      },
      "source": [
        "# Test your solution here\n",
        "x=\"racecar\"\n",
        "palindrome(x)\n"
      ],
      "execution_count": 15,
      "outputs": [
        {
          "output_type": "execute_result",
          "data": {
            "text/plain": [
              "True"
            ]
          },
          "metadata": {
            "tags": []
          },
          "execution_count": 15
        }
      ]
    },
    {
      "cell_type": "markdown",
      "metadata": {
        "colab_type": "text",
        "id": "fT35xwandBHc"
      },
      "source": [
        "*Exercise 7:* Write a Rock-Paper-Scissors game function, that takes 2 strings, the inputs of player 1 and player 2, and output 1 or 2 corresponding to which player wins, or 0 if draw.\n",
        "\n",
        "Implement a Rock-Paper-Scissors game by soliciting input from 2 players, testing with this function, and repeating if there is a draw.\n",
        "\n",
        "Remember the rules:\n",
        "\n",
        "* Rock beats scissors\n",
        "* Scissors beats paper\n",
        "* Paper beats rock"
      ]
    },
    {
      "cell_type": "code",
      "metadata": {
        "colab_type": "code",
        "id": "U1_HxxaWdBHd",
        "colab": {}
      },
      "source": [
        "# Write you solution here\n",
        "def game(play_1,play_2):\n",
        "  \n",
        "  if play_1 == play_2:\n",
        "    print('0')\n",
        "  elif play_1 == 'rock':\n",
        "    if play_2 == 'paper':\n",
        "      print('2')\n",
        "    else:\n",
        "      print('1')\n",
        "  elif play_1 == 'paper':\n",
        "    if play_2 == 'scissors':\n",
        "      print('2')\n",
        "    else:\n",
        "      print('1')\n",
        "  elif play_1 == 'scissors':\n",
        "    if play_2 == 'rock':\n",
        "      print('2')\n",
        "    else:\n",
        "      print('1')\n",
        "  "
      ],
      "execution_count": 0,
      "outputs": []
    },
    {
      "cell_type": "code",
      "metadata": {
        "colab_type": "code",
        "id": "ooR2ldZBdBHf",
        "colab": {
          "base_uri": "https://localhost:8080/",
          "height": 34
        },
        "outputId": "65b58db1-1faa-45bf-c74d-a65ded885257"
      },
      "source": [
        "# Test your solution here\n",
        "play_1= ['rock','paper','scissors']\n",
        "play_2= ['rock','paper','scissors']\n",
        "game('scissors','paper')"
      ],
      "execution_count": 34,
      "outputs": [
        {
          "output_type": "stream",
          "text": [
            "1\n"
          ],
          "name": "stdout"
        }
      ]
    },
    {
      "cell_type": "markdown",
      "metadata": {
        "colab_type": "text",
        "id": "dJQzXNKzdBHh"
      },
      "source": [
        "*Exercise 8:* Write a function that takes a integer `n` as input and \n",
        "outputs a list of the first `n` Fibonnaci numbers.\n",
        "\n",
        "The Fibonnaci seqence is a sequence of numbers where the next number in the sequence is the sum of the previous two numbers in the sequence. The sequence looks like this: 1, 1, 2, 3, 5, 8, 13, …)"
      ]
    },
    {
      "cell_type": "code",
      "metadata": {
        "id": "R-wdgNJRnUxn",
        "colab_type": "code",
        "colab": {}
      },
      "source": [
        "# Write your solution here\n",
        "def fun(n):\n",
        "  output=[n]\n",
        "  x=0\n",
        "  for i in range(0,5):\n",
        "    y=n+x\n",
        "    output= output + [y]\n",
        "    x=n\n",
        "    n=y\n",
        "  print(output)"
      ],
      "execution_count": 0,
      "outputs": []
    },
    {
      "cell_type": "code",
      "metadata": {
        "colab_type": "code",
        "id": "rzK5FskJdBHj",
        "outputId": "a13eb23b-17d8-4b8f-f7df-e11131a66dd4",
        "colab": {
          "base_uri": "https://localhost:8080/",
          "height": 90
        }
      },
      "source": [
        "# Test your solution here\n",
        "fun(1)\n",
        "fun(2)\n",
        "fun(5)\n",
        "fun(10)\n"
      ],
      "execution_count": 0,
      "outputs": [
        {
          "output_type": "stream",
          "text": [
            "[1, 1, 2, 3, 5, 8]\n",
            "[2, 2, 4, 6, 10, 16]\n",
            "[5, 5, 10, 15, 25, 40]\n",
            "[10, 10, 20, 30, 50, 80]\n"
          ],
          "name": "stdout"
        }
      ]
    },
    {
      "cell_type": "markdown",
      "metadata": {
        "colab_type": "text",
        "id": "q6c_AskadBHl"
      },
      "source": [
        "*Exercise 9:* Write a function that takes a string of consisting of several words and returns a string that reverses the order of the words.\n"
      ]
    },
    {
      "cell_type": "code",
      "metadata": {
        "colab_type": "code",
        "id": "aJdXX6FHdBHl",
        "colab": {}
      },
      "source": [
        "# Write you solution here\n",
        "def reverse(s):\n",
        "  words = s.split(' ') \n",
        "  string =[] \n",
        "  for word in words: \n",
        "  \tstring.insert(0, word) \n",
        "\n",
        "  print(\" \".join(string)) \n",
        "\n"
      ],
      "execution_count": 0,
      "outputs": []
    },
    {
      "cell_type": "code",
      "metadata": {
        "colab_type": "code",
        "id": "nQyhnLZ_dBHn",
        "outputId": "b8fc6826-3ed8-46d7-d1a1-5b064eaa2f3c",
        "colab": {
          "base_uri": "https://localhost:8080/",
          "height": 54
        }
      },
      "source": [
        "# Test your solution here\n",
        "s = \"Once upon a time\"\n",
        "reverse(s)\n",
        "s= \"It's over Anakin I have the high ground\"\n",
        "reverse(s)"
      ],
      "execution_count": 0,
      "outputs": [
        {
          "output_type": "stream",
          "text": [
            "time a upon Once\n",
            "ground high the have I Anakin over It's\n"
          ],
          "name": "stdout"
        }
      ]
    },
    {
      "cell_type": "markdown",
      "metadata": {
        "colab_type": "text",
        "id": "NFSmRaSydBHq"
      },
      "source": [
        "*Exercise 10:* Write a guessing game program that will repeatedly guess a number that the users picks, with the user indicating higher or lower, until it correctly guesses the number."
      ]
    },
    {
      "cell_type": "code",
      "metadata": {
        "colab_type": "code",
        "id": "Ie2E1JzCdBHr",
        "colab": {
          "base_uri": "https://localhost:8080/",
          "height": 1000
        },
        "outputId": "50925da8-3b2e-4e21-bdac-047831521d2e"
      },
      "source": [
        "# Write you solution here\n",
        "x=int(input())\n",
        "import random\n",
        "y = random.randint(1,100)\n",
        "while y!=x:\n",
        "  print(y)\n",
        "  if y < x:\n",
        "    print(\"higher\")\n",
        "    n=y\n",
        "    y = random.randint(n,100)\n",
        "  elif y > x:\n",
        "    print(\"lower\")\n",
        "    n=y\n",
        "    y = random.randint(1,n)\n",
        "  else:\n",
        "    print(\"correct\")\n",
        "    break\n",
        "  print\n"
      ],
      "execution_count": 55,
      "outputs": [
        {
          "output_type": "stream",
          "text": [
            "60\n",
            "18\n",
            "higher\n",
            "100\n",
            "lower\n",
            "84\n",
            "lower\n",
            "11\n",
            "higher\n",
            "27\n",
            "higher\n",
            "61\n",
            "lower\n",
            "3\n",
            "higher\n",
            "20\n",
            "higher\n",
            "88\n",
            "lower\n",
            "55\n",
            "higher\n",
            "78\n",
            "lower\n",
            "45\n",
            "higher\n",
            "66\n",
            "lower\n",
            "42\n",
            "higher\n",
            "59\n",
            "higher\n",
            "91\n",
            "lower\n",
            "10\n",
            "higher\n",
            "26\n",
            "higher\n",
            "46\n",
            "higher\n",
            "97\n",
            "lower\n",
            "33\n",
            "higher\n",
            "58\n",
            "higher\n",
            "62\n",
            "lower\n",
            "32\n",
            "higher\n",
            "99\n",
            "lower\n",
            "83\n",
            "lower\n",
            "64\n",
            "lower\n",
            "23\n",
            "higher\n",
            "29\n",
            "higher\n",
            "35\n",
            "higher\n",
            "64\n",
            "lower\n",
            "64\n",
            "lower\n",
            "53\n",
            "higher\n",
            "96\n",
            "lower\n",
            "45\n",
            "higher\n",
            "95\n",
            "lower\n",
            "12\n",
            "higher\n",
            "29\n",
            "higher\n",
            "98\n",
            "lower\n",
            "48\n",
            "higher\n",
            "92\n",
            "lower\n",
            "27\n",
            "higher\n",
            "55\n",
            "higher\n",
            "72\n",
            "lower\n",
            "56\n",
            "higher\n",
            "59\n",
            "higher\n",
            "83\n",
            "lower\n",
            "31\n",
            "higher\n",
            "88\n",
            "lower\n",
            "17\n",
            "higher\n",
            "22\n",
            "higher\n",
            "96\n",
            "lower\n",
            "49\n",
            "higher\n",
            "97\n",
            "lower\n",
            "7\n",
            "higher\n",
            "86\n",
            "lower\n",
            "47\n",
            "higher\n",
            "67\n",
            "lower\n",
            "40\n",
            "higher\n",
            "46\n",
            "higher\n",
            "72\n",
            "lower\n",
            "36\n",
            "higher\n",
            "79\n",
            "lower\n",
            "51\n",
            "higher\n",
            "98\n",
            "lower\n",
            "25\n",
            "higher\n",
            "35\n",
            "higher\n",
            "38\n",
            "higher\n",
            "62\n",
            "lower\n",
            "35\n",
            "higher\n",
            "54\n",
            "higher\n",
            "73\n",
            "lower\n",
            "70\n",
            "lower\n",
            "47\n",
            "higher\n",
            "71\n",
            "lower\n",
            "71\n",
            "lower\n",
            "8\n",
            "higher\n",
            "40\n",
            "higher\n",
            "66\n",
            "lower\n",
            "37\n",
            "higher\n",
            "71\n",
            "lower\n",
            "31\n",
            "higher\n",
            "68\n",
            "lower\n",
            "46\n",
            "higher\n",
            "62\n",
            "lower\n",
            "50\n",
            "higher\n",
            "66\n",
            "lower\n",
            "12\n",
            "higher\n",
            "70\n",
            "lower\n",
            "9\n",
            "higher\n",
            "72\n",
            "lower\n",
            "30\n",
            "higher\n",
            "50\n",
            "higher\n",
            "51\n",
            "higher\n",
            "78\n",
            "lower\n",
            "31\n",
            "higher\n"
          ],
          "name": "stdout"
        }
      ]
    },
    {
      "cell_type": "code",
      "metadata": {
        "colab_type": "code",
        "id": "6T8YdWSMdBHs",
        "colab": {}
      },
      "source": [
        "# Test your solution here"
      ],
      "execution_count": 0,
      "outputs": []
    }
  ]
}